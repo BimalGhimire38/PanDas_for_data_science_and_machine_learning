{
 "cells": [
  {
   "cell_type": "code",
   "execution_count": 2,
   "id": "5765eedf",
   "metadata": {},
   "outputs": [],
   "source": [
    "import numpy as np\n",
    "import pandas as pd"
   ]
  },
  {
   "cell_type": "markdown",
   "id": "4ed0cae8",
   "metadata": {},
   "source": [
    "Series : A one-dimensional labeled array holding data of any type\n",
    "DataFrame: A two-dimensional data structure that holds data like a two-dimension array or a table with rows and columns"
   ]
  },
  {
   "cell_type": "code",
   "execution_count": 3,
   "id": "e78ff9d8",
   "metadata": {},
   "outputs": [],
   "source": [
    "s= pd.Series([1,3,5,np.nan,6,9])"
   ]
  },
  {
   "cell_type": "code",
   "execution_count": 4,
   "id": "8be1d68c",
   "metadata": {},
   "outputs": [
    {
     "data": {
      "text/plain": [
       "DatetimeIndex(['2013-01-01', '2013-01-02', '2013-01-03', '2013-01-04',\n",
       "               '2013-01-05', '2013-01-06'],\n",
       "              dtype='datetime64[ns]', freq='D')"
      ]
     },
     "execution_count": 4,
     "metadata": {},
     "output_type": "execute_result"
    }
   ],
   "source": [
    "dates = pd.date_range(\"20130101\", periods=6)\n",
    "dates"
   ]
  },
  {
   "cell_type": "code",
   "execution_count": 5,
   "id": "2b5bc5e1",
   "metadata": {},
   "outputs": [],
   "source": [
    "df = pd.DataFrame(np.random.randn(6,4),index=dates,columns=list(\"ABCD\"))"
   ]
  },
  {
   "cell_type": "code",
   "execution_count": 6,
   "id": "da30f762",
   "metadata": {},
   "outputs": [
    {
     "data": {
      "text/html": [
       "<div>\n",
       "<style scoped>\n",
       "    .dataframe tbody tr th:only-of-type {\n",
       "        vertical-align: middle;\n",
       "    }\n",
       "\n",
       "    .dataframe tbody tr th {\n",
       "        vertical-align: top;\n",
       "    }\n",
       "\n",
       "    .dataframe thead th {\n",
       "        text-align: right;\n",
       "    }\n",
       "</style>\n",
       "<table border=\"1\" class=\"dataframe\">\n",
       "  <thead>\n",
       "    <tr style=\"text-align: right;\">\n",
       "      <th></th>\n",
       "      <th>A</th>\n",
       "      <th>B</th>\n",
       "      <th>C</th>\n",
       "      <th>D</th>\n",
       "    </tr>\n",
       "  </thead>\n",
       "  <tbody>\n",
       "    <tr>\n",
       "      <th>2013-01-01</th>\n",
       "      <td>-0.932350</td>\n",
       "      <td>-1.516858</td>\n",
       "      <td>-0.767804</td>\n",
       "      <td>0.857554</td>\n",
       "    </tr>\n",
       "    <tr>\n",
       "      <th>2013-01-02</th>\n",
       "      <td>0.197324</td>\n",
       "      <td>-0.615708</td>\n",
       "      <td>0.165884</td>\n",
       "      <td>-0.345780</td>\n",
       "    </tr>\n",
       "    <tr>\n",
       "      <th>2013-01-03</th>\n",
       "      <td>1.479831</td>\n",
       "      <td>-0.920187</td>\n",
       "      <td>-1.936188</td>\n",
       "      <td>-0.771645</td>\n",
       "    </tr>\n",
       "    <tr>\n",
       "      <th>2013-01-04</th>\n",
       "      <td>-2.888471</td>\n",
       "      <td>-0.192728</td>\n",
       "      <td>0.110544</td>\n",
       "      <td>0.390994</td>\n",
       "    </tr>\n",
       "    <tr>\n",
       "      <th>2013-01-05</th>\n",
       "      <td>-0.113759</td>\n",
       "      <td>-0.140094</td>\n",
       "      <td>0.816357</td>\n",
       "      <td>-0.748742</td>\n",
       "    </tr>\n",
       "    <tr>\n",
       "      <th>2013-01-06</th>\n",
       "      <td>1.064922</td>\n",
       "      <td>0.951722</td>\n",
       "      <td>-1.186174</td>\n",
       "      <td>-0.685211</td>\n",
       "    </tr>\n",
       "  </tbody>\n",
       "</table>\n",
       "</div>"
      ],
      "text/plain": [
       "                   A         B         C         D\n",
       "2013-01-01 -0.932350 -1.516858 -0.767804  0.857554\n",
       "2013-01-02  0.197324 -0.615708  0.165884 -0.345780\n",
       "2013-01-03  1.479831 -0.920187 -1.936188 -0.771645\n",
       "2013-01-04 -2.888471 -0.192728  0.110544  0.390994\n",
       "2013-01-05 -0.113759 -0.140094  0.816357 -0.748742\n",
       "2013-01-06  1.064922  0.951722 -1.186174 -0.685211"
      ]
     },
     "execution_count": 6,
     "metadata": {},
     "output_type": "execute_result"
    }
   ],
   "source": [
    "df"
   ]
  },
  {
   "cell_type": "code",
   "execution_count": 7,
   "id": "5773b814",
   "metadata": {},
   "outputs": [
    {
     "data": {
      "text/html": [
       "<div>\n",
       "<style scoped>\n",
       "    .dataframe tbody tr th:only-of-type {\n",
       "        vertical-align: middle;\n",
       "    }\n",
       "\n",
       "    .dataframe tbody tr th {\n",
       "        vertical-align: top;\n",
       "    }\n",
       "\n",
       "    .dataframe thead th {\n",
       "        text-align: right;\n",
       "    }\n",
       "</style>\n",
       "<table border=\"1\" class=\"dataframe\">\n",
       "  <thead>\n",
       "    <tr style=\"text-align: right;\">\n",
       "      <th></th>\n",
       "      <th>A</th>\n",
       "      <th>B</th>\n",
       "      <th>C</th>\n",
       "      <th>D</th>\n",
       "      <th>E</th>\n",
       "      <th>F</th>\n",
       "    </tr>\n",
       "  </thead>\n",
       "  <tbody>\n",
       "    <tr>\n",
       "      <th>0</th>\n",
       "      <td>5.0</td>\n",
       "      <td>2013-01-02</td>\n",
       "      <td>1.0</td>\n",
       "      <td>3</td>\n",
       "      <td>test</td>\n",
       "      <td>Hi</td>\n",
       "    </tr>\n",
       "    <tr>\n",
       "      <th>1</th>\n",
       "      <td>5.0</td>\n",
       "      <td>2013-01-02</td>\n",
       "      <td>1.0</td>\n",
       "      <td>3</td>\n",
       "      <td>train</td>\n",
       "      <td>Hi</td>\n",
       "    </tr>\n",
       "    <tr>\n",
       "      <th>2</th>\n",
       "      <td>5.0</td>\n",
       "      <td>2013-01-02</td>\n",
       "      <td>1.0</td>\n",
       "      <td>3</td>\n",
       "      <td>test</td>\n",
       "      <td>Hi</td>\n",
       "    </tr>\n",
       "    <tr>\n",
       "      <th>3</th>\n",
       "      <td>5.0</td>\n",
       "      <td>2013-01-02</td>\n",
       "      <td>1.0</td>\n",
       "      <td>3</td>\n",
       "      <td>train</td>\n",
       "      <td>Hi</td>\n",
       "    </tr>\n",
       "  </tbody>\n",
       "</table>\n",
       "</div>"
      ],
      "text/plain": [
       "     A          B    C  D      E   F\n",
       "0  5.0 2013-01-02  1.0  3   test  Hi\n",
       "1  5.0 2013-01-02  1.0  3  train  Hi\n",
       "2  5.0 2013-01-02  1.0  3   test  Hi\n",
       "3  5.0 2013-01-02  1.0  3  train  Hi"
      ]
     },
     "execution_count": 7,
     "metadata": {},
     "output_type": "execute_result"
    }
   ],
   "source": [
    "df2 = pd.DataFrame(\n",
    "    {\n",
    "        \"A\":5.00,\n",
    "        \"B\":pd.Timestamp(\"20130102\"), \n",
    "        \"C\":pd.Series(1,index=list(range(4)), dtype = \"float32\"),\n",
    "        \"D\":np.array([3]*4, dtype=\"int32\"),\n",
    "        \"E\":pd.Categorical([\"test\",\"train\",\"test\",\"train\"]),\n",
    "        \"F\":\"Hi\"\n",
    "    }\n",
    ")\n",
    "df2"
   ]
  },
  {
   "cell_type": "code",
   "execution_count": 8,
   "id": "f8ddae05",
   "metadata": {},
   "outputs": [
    {
     "data": {
      "text/plain": [
       "A          float64\n",
       "B    datetime64[s]\n",
       "C          float32\n",
       "D            int32\n",
       "E         category\n",
       "F           object\n",
       "dtype: object"
      ]
     },
     "execution_count": 8,
     "metadata": {},
     "output_type": "execute_result"
    }
   ],
   "source": [
    "df2.dtypes"
   ]
  },
  {
   "cell_type": "code",
   "execution_count": 9,
   "id": "88d5b499",
   "metadata": {},
   "outputs": [
    {
     "data": {
      "text/html": [
       "<div>\n",
       "<style scoped>\n",
       "    .dataframe tbody tr th:only-of-type {\n",
       "        vertical-align: middle;\n",
       "    }\n",
       "\n",
       "    .dataframe tbody tr th {\n",
       "        vertical-align: top;\n",
       "    }\n",
       "\n",
       "    .dataframe thead th {\n",
       "        text-align: right;\n",
       "    }\n",
       "</style>\n",
       "<table border=\"1\" class=\"dataframe\">\n",
       "  <thead>\n",
       "    <tr style=\"text-align: right;\">\n",
       "      <th></th>\n",
       "      <th>A</th>\n",
       "      <th>B</th>\n",
       "      <th>C</th>\n",
       "      <th>D</th>\n",
       "      <th>E</th>\n",
       "      <th>F</th>\n",
       "    </tr>\n",
       "  </thead>\n",
       "  <tbody>\n",
       "    <tr>\n",
       "      <th>0</th>\n",
       "      <td>5.0</td>\n",
       "      <td>2013-01-02</td>\n",
       "      <td>1.0</td>\n",
       "      <td>3</td>\n",
       "      <td>test</td>\n",
       "      <td>Hi</td>\n",
       "    </tr>\n",
       "    <tr>\n",
       "      <th>1</th>\n",
       "      <td>5.0</td>\n",
       "      <td>2013-01-02</td>\n",
       "      <td>1.0</td>\n",
       "      <td>3</td>\n",
       "      <td>train</td>\n",
       "      <td>Hi</td>\n",
       "    </tr>\n",
       "    <tr>\n",
       "      <th>2</th>\n",
       "      <td>5.0</td>\n",
       "      <td>2013-01-02</td>\n",
       "      <td>1.0</td>\n",
       "      <td>3</td>\n",
       "      <td>test</td>\n",
       "      <td>Hi</td>\n",
       "    </tr>\n",
       "    <tr>\n",
       "      <th>3</th>\n",
       "      <td>5.0</td>\n",
       "      <td>2013-01-02</td>\n",
       "      <td>1.0</td>\n",
       "      <td>3</td>\n",
       "      <td>train</td>\n",
       "      <td>Hi</td>\n",
       "    </tr>\n",
       "  </tbody>\n",
       "</table>\n",
       "</div>"
      ],
      "text/plain": [
       "     A          B    C  D      E   F\n",
       "0  5.0 2013-01-02  1.0  3   test  Hi\n",
       "1  5.0 2013-01-02  1.0  3  train  Hi\n",
       "2  5.0 2013-01-02  1.0  3   test  Hi\n",
       "3  5.0 2013-01-02  1.0  3  train  Hi"
      ]
     },
     "execution_count": 9,
     "metadata": {},
     "output_type": "execute_result"
    }
   ],
   "source": [
    "df2.head()"
   ]
  },
  {
   "cell_type": "code",
   "execution_count": 10,
   "id": "cc1880a0",
   "metadata": {},
   "outputs": [
    {
     "data": {
      "text/html": [
       "<div>\n",
       "<style scoped>\n",
       "    .dataframe tbody tr th:only-of-type {\n",
       "        vertical-align: middle;\n",
       "    }\n",
       "\n",
       "    .dataframe tbody tr th {\n",
       "        vertical-align: top;\n",
       "    }\n",
       "\n",
       "    .dataframe thead th {\n",
       "        text-align: right;\n",
       "    }\n",
       "</style>\n",
       "<table border=\"1\" class=\"dataframe\">\n",
       "  <thead>\n",
       "    <tr style=\"text-align: right;\">\n",
       "      <th></th>\n",
       "      <th>A</th>\n",
       "      <th>B</th>\n",
       "      <th>C</th>\n",
       "      <th>D</th>\n",
       "    </tr>\n",
       "  </thead>\n",
       "  <tbody>\n",
       "    <tr>\n",
       "      <th>2013-01-05</th>\n",
       "      <td>-0.113759</td>\n",
       "      <td>-0.140094</td>\n",
       "      <td>0.816357</td>\n",
       "      <td>-0.748742</td>\n",
       "    </tr>\n",
       "    <tr>\n",
       "      <th>2013-01-06</th>\n",
       "      <td>1.064922</td>\n",
       "      <td>0.951722</td>\n",
       "      <td>-1.186174</td>\n",
       "      <td>-0.685211</td>\n",
       "    </tr>\n",
       "  </tbody>\n",
       "</table>\n",
       "</div>"
      ],
      "text/plain": [
       "                   A         B         C         D\n",
       "2013-01-05 -0.113759 -0.140094  0.816357 -0.748742\n",
       "2013-01-06  1.064922  0.951722 -1.186174 -0.685211"
      ]
     },
     "execution_count": 10,
     "metadata": {},
     "output_type": "execute_result"
    }
   ],
   "source": [
    "df.tail(2)"
   ]
  },
  {
   "cell_type": "code",
   "execution_count": 11,
   "id": "fb9f6270",
   "metadata": {},
   "outputs": [
    {
     "data": {
      "text/plain": [
       "DatetimeIndex(['2013-01-01', '2013-01-02', '2013-01-03', '2013-01-04',\n",
       "               '2013-01-05', '2013-01-06'],\n",
       "              dtype='datetime64[ns]', freq='D')"
      ]
     },
     "execution_count": 11,
     "metadata": {},
     "output_type": "execute_result"
    }
   ],
   "source": [
    "df.index"
   ]
  },
  {
   "cell_type": "code",
   "execution_count": 12,
   "id": "3e60e0a8",
   "metadata": {},
   "outputs": [
    {
     "data": {
      "text/plain": [
       "array([[-0.93235045, -1.51685761, -0.76780406,  0.85755381],\n",
       "       [ 0.19732432, -0.61570786,  0.16588363, -0.34577975],\n",
       "       [ 1.479831  , -0.92018721, -1.93618779, -0.77164523],\n",
       "       [-2.88847114, -0.19272814,  0.11054371,  0.39099424],\n",
       "       [-0.11375948, -0.14009352,  0.81635726, -0.748742  ],\n",
       "       [ 1.06492211,  0.95172219, -1.18617395, -0.6852108 ]])"
      ]
     },
     "execution_count": 12,
     "metadata": {},
     "output_type": "execute_result"
    }
   ],
   "source": [
    "df.to_numpy()"
   ]
  },
  {
   "cell_type": "code",
   "execution_count": 13,
   "id": "f2886131",
   "metadata": {},
   "outputs": [
    {
     "data": {
      "text/plain": [
       "array([[5.0, Timestamp('2013-01-02 00:00:00'), 1.0, 3, 'test', 'Hi'],\n",
       "       [5.0, Timestamp('2013-01-02 00:00:00'), 1.0, 3, 'train', 'Hi'],\n",
       "       [5.0, Timestamp('2013-01-02 00:00:00'), 1.0, 3, 'test', 'Hi'],\n",
       "       [5.0, Timestamp('2013-01-02 00:00:00'), 1.0, 3, 'train', 'Hi']],\n",
       "      dtype=object)"
      ]
     },
     "execution_count": 13,
     "metadata": {},
     "output_type": "execute_result"
    }
   ],
   "source": [
    "df2.to_numpy()"
   ]
  },
  {
   "cell_type": "code",
   "execution_count": 14,
   "id": "88141b78",
   "metadata": {},
   "outputs": [
    {
     "data": {
      "text/html": [
       "<div>\n",
       "<style scoped>\n",
       "    .dataframe tbody tr th:only-of-type {\n",
       "        vertical-align: middle;\n",
       "    }\n",
       "\n",
       "    .dataframe tbody tr th {\n",
       "        vertical-align: top;\n",
       "    }\n",
       "\n",
       "    .dataframe thead th {\n",
       "        text-align: right;\n",
       "    }\n",
       "</style>\n",
       "<table border=\"1\" class=\"dataframe\">\n",
       "  <thead>\n",
       "    <tr style=\"text-align: right;\">\n",
       "      <th></th>\n",
       "      <th>2013-01-01</th>\n",
       "      <th>2013-01-02</th>\n",
       "      <th>2013-01-03</th>\n",
       "      <th>2013-01-04</th>\n",
       "      <th>2013-01-05</th>\n",
       "      <th>2013-01-06</th>\n",
       "    </tr>\n",
       "  </thead>\n",
       "  <tbody>\n",
       "    <tr>\n",
       "      <th>A</th>\n",
       "      <td>-0.932350</td>\n",
       "      <td>0.197324</td>\n",
       "      <td>1.479831</td>\n",
       "      <td>-2.888471</td>\n",
       "      <td>-0.113759</td>\n",
       "      <td>1.064922</td>\n",
       "    </tr>\n",
       "    <tr>\n",
       "      <th>B</th>\n",
       "      <td>-1.516858</td>\n",
       "      <td>-0.615708</td>\n",
       "      <td>-0.920187</td>\n",
       "      <td>-0.192728</td>\n",
       "      <td>-0.140094</td>\n",
       "      <td>0.951722</td>\n",
       "    </tr>\n",
       "    <tr>\n",
       "      <th>C</th>\n",
       "      <td>-0.767804</td>\n",
       "      <td>0.165884</td>\n",
       "      <td>-1.936188</td>\n",
       "      <td>0.110544</td>\n",
       "      <td>0.816357</td>\n",
       "      <td>-1.186174</td>\n",
       "    </tr>\n",
       "    <tr>\n",
       "      <th>D</th>\n",
       "      <td>0.857554</td>\n",
       "      <td>-0.345780</td>\n",
       "      <td>-0.771645</td>\n",
       "      <td>0.390994</td>\n",
       "      <td>-0.748742</td>\n",
       "      <td>-0.685211</td>\n",
       "    </tr>\n",
       "  </tbody>\n",
       "</table>\n",
       "</div>"
      ],
      "text/plain": [
       "   2013-01-01  2013-01-02  2013-01-03  2013-01-04  2013-01-05  2013-01-06\n",
       "A   -0.932350    0.197324    1.479831   -2.888471   -0.113759    1.064922\n",
       "B   -1.516858   -0.615708   -0.920187   -0.192728   -0.140094    0.951722\n",
       "C   -0.767804    0.165884   -1.936188    0.110544    0.816357   -1.186174\n",
       "D    0.857554   -0.345780   -0.771645    0.390994   -0.748742   -0.685211"
      ]
     },
     "execution_count": 14,
     "metadata": {},
     "output_type": "execute_result"
    }
   ],
   "source": [
    "df.T"
   ]
  },
  {
   "cell_type": "code",
   "execution_count": 15,
   "id": "6654ac5c",
   "metadata": {},
   "outputs": [
    {
     "data": {
      "text/html": [
       "<div>\n",
       "<style scoped>\n",
       "    .dataframe tbody tr th:only-of-type {\n",
       "        vertical-align: middle;\n",
       "    }\n",
       "\n",
       "    .dataframe tbody tr th {\n",
       "        vertical-align: top;\n",
       "    }\n",
       "\n",
       "    .dataframe thead th {\n",
       "        text-align: right;\n",
       "    }\n",
       "</style>\n",
       "<table border=\"1\" class=\"dataframe\">\n",
       "  <thead>\n",
       "    <tr style=\"text-align: right;\">\n",
       "      <th></th>\n",
       "      <th>A</th>\n",
       "      <th>B</th>\n",
       "      <th>C</th>\n",
       "      <th>D</th>\n",
       "    </tr>\n",
       "  </thead>\n",
       "  <tbody>\n",
       "    <tr>\n",
       "      <th>2013-01-01</th>\n",
       "      <td>-0.932350</td>\n",
       "      <td>-1.516858</td>\n",
       "      <td>-0.767804</td>\n",
       "      <td>0.857554</td>\n",
       "    </tr>\n",
       "    <tr>\n",
       "      <th>2013-01-03</th>\n",
       "      <td>1.479831</td>\n",
       "      <td>-0.920187</td>\n",
       "      <td>-1.936188</td>\n",
       "      <td>-0.771645</td>\n",
       "    </tr>\n",
       "    <tr>\n",
       "      <th>2013-01-02</th>\n",
       "      <td>0.197324</td>\n",
       "      <td>-0.615708</td>\n",
       "      <td>0.165884</td>\n",
       "      <td>-0.345780</td>\n",
       "    </tr>\n",
       "    <tr>\n",
       "      <th>2013-01-04</th>\n",
       "      <td>-2.888471</td>\n",
       "      <td>-0.192728</td>\n",
       "      <td>0.110544</td>\n",
       "      <td>0.390994</td>\n",
       "    </tr>\n",
       "    <tr>\n",
       "      <th>2013-01-05</th>\n",
       "      <td>-0.113759</td>\n",
       "      <td>-0.140094</td>\n",
       "      <td>0.816357</td>\n",
       "      <td>-0.748742</td>\n",
       "    </tr>\n",
       "    <tr>\n",
       "      <th>2013-01-06</th>\n",
       "      <td>1.064922</td>\n",
       "      <td>0.951722</td>\n",
       "      <td>-1.186174</td>\n",
       "      <td>-0.685211</td>\n",
       "    </tr>\n",
       "  </tbody>\n",
       "</table>\n",
       "</div>"
      ],
      "text/plain": [
       "                   A         B         C         D\n",
       "2013-01-01 -0.932350 -1.516858 -0.767804  0.857554\n",
       "2013-01-03  1.479831 -0.920187 -1.936188 -0.771645\n",
       "2013-01-02  0.197324 -0.615708  0.165884 -0.345780\n",
       "2013-01-04 -2.888471 -0.192728  0.110544  0.390994\n",
       "2013-01-05 -0.113759 -0.140094  0.816357 -0.748742\n",
       "2013-01-06  1.064922  0.951722 -1.186174 -0.685211"
      ]
     },
     "execution_count": 15,
     "metadata": {},
     "output_type": "execute_result"
    }
   ],
   "source": [
    "df.sort_values(by=\"B\")"
   ]
  },
  {
   "cell_type": "code",
   "execution_count": 16,
   "id": "dfc1b9a3",
   "metadata": {},
   "outputs": [
    {
     "data": {
      "text/plain": [
       "2013-01-01   -0.932350\n",
       "2013-01-02    0.197324\n",
       "2013-01-03    1.479831\n",
       "2013-01-04   -2.888471\n",
       "2013-01-05   -0.113759\n",
       "2013-01-06    1.064922\n",
       "Freq: D, Name: A, dtype: float64"
      ]
     },
     "execution_count": 16,
     "metadata": {},
     "output_type": "execute_result"
    }
   ],
   "source": [
    "df[\"A\"]"
   ]
  },
  {
   "cell_type": "code",
   "execution_count": 17,
   "id": "15880629",
   "metadata": {},
   "outputs": [
    {
     "data": {
      "text/html": [
       "<div>\n",
       "<style scoped>\n",
       "    .dataframe tbody tr th:only-of-type {\n",
       "        vertical-align: middle;\n",
       "    }\n",
       "\n",
       "    .dataframe tbody tr th {\n",
       "        vertical-align: top;\n",
       "    }\n",
       "\n",
       "    .dataframe thead th {\n",
       "        text-align: right;\n",
       "    }\n",
       "</style>\n",
       "<table border=\"1\" class=\"dataframe\">\n",
       "  <thead>\n",
       "    <tr style=\"text-align: right;\">\n",
       "      <th></th>\n",
       "      <th>A</th>\n",
       "      <th>B</th>\n",
       "      <th>C</th>\n",
       "      <th>D</th>\n",
       "    </tr>\n",
       "  </thead>\n",
       "  <tbody>\n",
       "    <tr>\n",
       "      <th>2013-01-01</th>\n",
       "      <td>-0.93235</td>\n",
       "      <td>-1.516858</td>\n",
       "      <td>-0.767804</td>\n",
       "      <td>0.857554</td>\n",
       "    </tr>\n",
       "  </tbody>\n",
       "</table>\n",
       "</div>"
      ],
      "text/plain": [
       "                  A         B         C         D\n",
       "2013-01-01 -0.93235 -1.516858 -0.767804  0.857554"
      ]
     },
     "execution_count": 17,
     "metadata": {},
     "output_type": "execute_result"
    }
   ],
   "source": [
    "df[0:1]"
   ]
  },
  {
   "cell_type": "code",
   "execution_count": 18,
   "id": "0793a99b",
   "metadata": {},
   "outputs": [
    {
     "data": {
      "text/html": [
       "<div>\n",
       "<style scoped>\n",
       "    .dataframe tbody tr th:only-of-type {\n",
       "        vertical-align: middle;\n",
       "    }\n",
       "\n",
       "    .dataframe tbody tr th {\n",
       "        vertical-align: top;\n",
       "    }\n",
       "\n",
       "    .dataframe thead th {\n",
       "        text-align: right;\n",
       "    }\n",
       "</style>\n",
       "<table border=\"1\" class=\"dataframe\">\n",
       "  <thead>\n",
       "    <tr style=\"text-align: right;\">\n",
       "      <th></th>\n",
       "      <th>A</th>\n",
       "      <th>B</th>\n",
       "    </tr>\n",
       "  </thead>\n",
       "  <tbody>\n",
       "    <tr>\n",
       "      <th>2013-01-01</th>\n",
       "      <td>-0.932350</td>\n",
       "      <td>-1.516858</td>\n",
       "    </tr>\n",
       "    <tr>\n",
       "      <th>2013-01-02</th>\n",
       "      <td>0.197324</td>\n",
       "      <td>-0.615708</td>\n",
       "    </tr>\n",
       "    <tr>\n",
       "      <th>2013-01-03</th>\n",
       "      <td>1.479831</td>\n",
       "      <td>-0.920187</td>\n",
       "    </tr>\n",
       "    <tr>\n",
       "      <th>2013-01-04</th>\n",
       "      <td>-2.888471</td>\n",
       "      <td>-0.192728</td>\n",
       "    </tr>\n",
       "    <tr>\n",
       "      <th>2013-01-05</th>\n",
       "      <td>-0.113759</td>\n",
       "      <td>-0.140094</td>\n",
       "    </tr>\n",
       "    <tr>\n",
       "      <th>2013-01-06</th>\n",
       "      <td>1.064922</td>\n",
       "      <td>0.951722</td>\n",
       "    </tr>\n",
       "  </tbody>\n",
       "</table>\n",
       "</div>"
      ],
      "text/plain": [
       "                   A         B\n",
       "2013-01-01 -0.932350 -1.516858\n",
       "2013-01-02  0.197324 -0.615708\n",
       "2013-01-03  1.479831 -0.920187\n",
       "2013-01-04 -2.888471 -0.192728\n",
       "2013-01-05 -0.113759 -0.140094\n",
       "2013-01-06  1.064922  0.951722"
      ]
     },
     "execution_count": 18,
     "metadata": {},
     "output_type": "execute_result"
    }
   ],
   "source": [
    "df.loc[:,[\"A\",\"B\"]]"
   ]
  },
  {
   "cell_type": "code",
   "execution_count": 19,
   "id": "cbac63c3",
   "metadata": {},
   "outputs": [
    {
     "data": {
      "text/plain": [
       "A    float64\n",
       "B    float64\n",
       "C    float64\n",
       "D    float64\n",
       "dtype: object"
      ]
     },
     "execution_count": 19,
     "metadata": {},
     "output_type": "execute_result"
    }
   ],
   "source": [
    "df.dtypes"
   ]
  },
  {
   "cell_type": "code",
   "execution_count": 20,
   "id": "bdee4fd0",
   "metadata": {},
   "outputs": [
    {
     "data": {
      "text/plain": [
       "DatetimeIndex(['2013-01-01', '2013-01-02', '2013-01-03', '2013-01-04',\n",
       "               '2013-01-05', '2013-01-06'],\n",
       "              dtype='datetime64[ns]', freq='D')"
      ]
     },
     "execution_count": 20,
     "metadata": {},
     "output_type": "execute_result"
    }
   ],
   "source": [
    "df.index"
   ]
  },
  {
   "cell_type": "code",
   "execution_count": 21,
   "id": "17f1d5bf",
   "metadata": {},
   "outputs": [
    {
     "name": "stdout",
     "output_type": "stream",
     "text": [
      "                   A         B         C         D\n",
      "2013-01-01 -0.932350 -1.516858 -0.767804  0.857554\n",
      "2013-01-02  0.197324 -0.615708  0.165884 -0.345780\n",
      "2013-01-03  1.479831 -0.920187 -1.936188 -0.771645\n",
      "2013-01-04 -2.888471 -0.192728  0.110544  0.390994\n",
      "2013-01-05 -0.113759 -0.140094  0.816357 -0.748742\n",
      "2013-01-06  1.064922  0.951722 -1.186174 -0.685211\n"
     ]
    }
   ],
   "source": [
    "df.loc[\"20130102\":\"20130103\"]\n",
    "print(df)"
   ]
  },
  {
   "cell_type": "markdown",
   "id": "70c104db",
   "metadata": {},
   "source": [
    "Selection by Location of Label"
   ]
  },
  {
   "cell_type": "code",
   "execution_count": 22,
   "id": "428342de",
   "metadata": {},
   "outputs": [
    {
     "data": {
      "text/plain": [
       "np.float64(-0.9323504457453111)"
      ]
     },
     "execution_count": 22,
     "metadata": {},
     "output_type": "execute_result"
    }
   ],
   "source": [
    "df.loc[dates[0],\"A\"]"
   ]
  },
  {
   "cell_type": "code",
   "execution_count": 23,
   "id": "7b8336b6",
   "metadata": {},
   "outputs": [
    {
     "data": {
      "text/plain": [
       "np.float64(-0.9323504457453111)"
      ]
     },
     "execution_count": 23,
     "metadata": {},
     "output_type": "execute_result"
    }
   ],
   "source": [
    "df.at[dates[0],\"A\"]"
   ]
  },
  {
   "cell_type": "markdown",
   "id": "4e295dc0",
   "metadata": {},
   "source": [
    "Selection by Position || .iloc means selecting by integer based location ,, not by actual index"
   ]
  },
  {
   "cell_type": "code",
   "execution_count": null,
   "id": "1a460ffa",
   "metadata": {},
   "outputs": [],
   "source": []
  },
  {
   "cell_type": "code",
   "execution_count": 24,
   "id": "d15fca30",
   "metadata": {},
   "outputs": [
    {
     "data": {
      "text/plain": [
       "A   -2.888471\n",
       "B   -0.192728\n",
       "C    0.110544\n",
       "D    0.390994\n",
       "Name: 2013-01-04 00:00:00, dtype: float64"
      ]
     },
     "execution_count": 24,
     "metadata": {},
     "output_type": "execute_result"
    }
   ],
   "source": [
    "df.iloc[3]"
   ]
  },
  {
   "cell_type": "code",
   "execution_count": 25,
   "id": "5f89a639",
   "metadata": {},
   "outputs": [
    {
     "data": {
      "text/html": [
       "<div>\n",
       "<style scoped>\n",
       "    .dataframe tbody tr th:only-of-type {\n",
       "        vertical-align: middle;\n",
       "    }\n",
       "\n",
       "    .dataframe tbody tr th {\n",
       "        vertical-align: top;\n",
       "    }\n",
       "\n",
       "    .dataframe thead th {\n",
       "        text-align: right;\n",
       "    }\n",
       "</style>\n",
       "<table border=\"1\" class=\"dataframe\">\n",
       "  <thead>\n",
       "    <tr style=\"text-align: right;\">\n",
       "      <th></th>\n",
       "      <th>A</th>\n",
       "      <th>B</th>\n",
       "    </tr>\n",
       "  </thead>\n",
       "  <tbody>\n",
       "    <tr>\n",
       "      <th>2013-01-04</th>\n",
       "      <td>-2.888471</td>\n",
       "      <td>-0.192728</td>\n",
       "    </tr>\n",
       "    <tr>\n",
       "      <th>2013-01-05</th>\n",
       "      <td>-0.113759</td>\n",
       "      <td>-0.140094</td>\n",
       "    </tr>\n",
       "  </tbody>\n",
       "</table>\n",
       "</div>"
      ],
      "text/plain": [
       "                   A         B\n",
       "2013-01-04 -2.888471 -0.192728\n",
       "2013-01-05 -0.113759 -0.140094"
      ]
     },
     "execution_count": 25,
     "metadata": {},
     "output_type": "execute_result"
    }
   ],
   "source": [
    "df.iloc[3:5,0:2]"
   ]
  },
  {
   "cell_type": "code",
   "execution_count": 26,
   "id": "892c1da4",
   "metadata": {},
   "outputs": [
    {
     "data": {
      "text/html": [
       "<div>\n",
       "<style scoped>\n",
       "    .dataframe tbody tr th:only-of-type {\n",
       "        vertical-align: middle;\n",
       "    }\n",
       "\n",
       "    .dataframe tbody tr th {\n",
       "        vertical-align: top;\n",
       "    }\n",
       "\n",
       "    .dataframe thead th {\n",
       "        text-align: right;\n",
       "    }\n",
       "</style>\n",
       "<table border=\"1\" class=\"dataframe\">\n",
       "  <thead>\n",
       "    <tr style=\"text-align: right;\">\n",
       "      <th></th>\n",
       "      <th>A</th>\n",
       "      <th>C</th>\n",
       "    </tr>\n",
       "  </thead>\n",
       "  <tbody>\n",
       "    <tr>\n",
       "      <th>2013-01-02</th>\n",
       "      <td>0.197324</td>\n",
       "      <td>0.165884</td>\n",
       "    </tr>\n",
       "    <tr>\n",
       "      <th>2013-01-03</th>\n",
       "      <td>1.479831</td>\n",
       "      <td>-1.936188</td>\n",
       "    </tr>\n",
       "    <tr>\n",
       "      <th>2013-01-05</th>\n",
       "      <td>-0.113759</td>\n",
       "      <td>0.816357</td>\n",
       "    </tr>\n",
       "  </tbody>\n",
       "</table>\n",
       "</div>"
      ],
      "text/plain": [
       "                   A         C\n",
       "2013-01-02  0.197324  0.165884\n",
       "2013-01-03  1.479831 -1.936188\n",
       "2013-01-05 -0.113759  0.816357"
      ]
     },
     "execution_count": 26,
     "metadata": {},
     "output_type": "execute_result"
    }
   ],
   "source": [
    "df.iloc[[1,2,4],[0,2]]"
   ]
  },
  {
   "cell_type": "code",
   "execution_count": 27,
   "id": "baada1a9",
   "metadata": {},
   "outputs": [
    {
     "data": {
      "text/html": [
       "<div>\n",
       "<style scoped>\n",
       "    .dataframe tbody tr th:only-of-type {\n",
       "        vertical-align: middle;\n",
       "    }\n",
       "\n",
       "    .dataframe tbody tr th {\n",
       "        vertical-align: top;\n",
       "    }\n",
       "\n",
       "    .dataframe thead th {\n",
       "        text-align: right;\n",
       "    }\n",
       "</style>\n",
       "<table border=\"1\" class=\"dataframe\">\n",
       "  <thead>\n",
       "    <tr style=\"text-align: right;\">\n",
       "      <th></th>\n",
       "      <th>A</th>\n",
       "      <th>B</th>\n",
       "      <th>C</th>\n",
       "      <th>D</th>\n",
       "    </tr>\n",
       "  </thead>\n",
       "  <tbody>\n",
       "    <tr>\n",
       "      <th>2013-01-02</th>\n",
       "      <td>0.197324</td>\n",
       "      <td>-0.615708</td>\n",
       "      <td>0.165884</td>\n",
       "      <td>-0.345780</td>\n",
       "    </tr>\n",
       "    <tr>\n",
       "      <th>2013-01-03</th>\n",
       "      <td>1.479831</td>\n",
       "      <td>-0.920187</td>\n",
       "      <td>-1.936188</td>\n",
       "      <td>-0.771645</td>\n",
       "    </tr>\n",
       "  </tbody>\n",
       "</table>\n",
       "</div>"
      ],
      "text/plain": [
       "                   A         B         C         D\n",
       "2013-01-02  0.197324 -0.615708  0.165884 -0.345780\n",
       "2013-01-03  1.479831 -0.920187 -1.936188 -0.771645"
      ]
     },
     "execution_count": 27,
     "metadata": {},
     "output_type": "execute_result"
    }
   ],
   "source": [
    "df.iloc[1:3,]"
   ]
  },
  {
   "cell_type": "code",
   "execution_count": 28,
   "id": "01290895",
   "metadata": {},
   "outputs": [
    {
     "data": {
      "text/html": [
       "<div>\n",
       "<style scoped>\n",
       "    .dataframe tbody tr th:only-of-type {\n",
       "        vertical-align: middle;\n",
       "    }\n",
       "\n",
       "    .dataframe tbody tr th {\n",
       "        vertical-align: top;\n",
       "    }\n",
       "\n",
       "    .dataframe thead th {\n",
       "        text-align: right;\n",
       "    }\n",
       "</style>\n",
       "<table border=\"1\" class=\"dataframe\">\n",
       "  <thead>\n",
       "    <tr style=\"text-align: right;\">\n",
       "      <th></th>\n",
       "      <th>B</th>\n",
       "      <th>C</th>\n",
       "    </tr>\n",
       "  </thead>\n",
       "  <tbody>\n",
       "    <tr>\n",
       "      <th>2013-01-01</th>\n",
       "      <td>-1.516858</td>\n",
       "      <td>-0.767804</td>\n",
       "    </tr>\n",
       "    <tr>\n",
       "      <th>2013-01-02</th>\n",
       "      <td>-0.615708</td>\n",
       "      <td>0.165884</td>\n",
       "    </tr>\n",
       "    <tr>\n",
       "      <th>2013-01-03</th>\n",
       "      <td>-0.920187</td>\n",
       "      <td>-1.936188</td>\n",
       "    </tr>\n",
       "    <tr>\n",
       "      <th>2013-01-04</th>\n",
       "      <td>-0.192728</td>\n",
       "      <td>0.110544</td>\n",
       "    </tr>\n",
       "    <tr>\n",
       "      <th>2013-01-05</th>\n",
       "      <td>-0.140094</td>\n",
       "      <td>0.816357</td>\n",
       "    </tr>\n",
       "    <tr>\n",
       "      <th>2013-01-06</th>\n",
       "      <td>0.951722</td>\n",
       "      <td>-1.186174</td>\n",
       "    </tr>\n",
       "  </tbody>\n",
       "</table>\n",
       "</div>"
      ],
      "text/plain": [
       "                   B         C\n",
       "2013-01-01 -1.516858 -0.767804\n",
       "2013-01-02 -0.615708  0.165884\n",
       "2013-01-03 -0.920187 -1.936188\n",
       "2013-01-04 -0.192728  0.110544\n",
       "2013-01-05 -0.140094  0.816357\n",
       "2013-01-06  0.951722 -1.186174"
      ]
     },
     "execution_count": 28,
     "metadata": {},
     "output_type": "execute_result"
    }
   ],
   "source": [
    "df.iloc[:,1:3]"
   ]
  },
  {
   "cell_type": "code",
   "execution_count": 29,
   "id": "d5bf0722",
   "metadata": {},
   "outputs": [
    {
     "data": {
      "text/plain": [
       "np.float64(-0.6157078628201488)"
      ]
     },
     "execution_count": 29,
     "metadata": {},
     "output_type": "execute_result"
    }
   ],
   "source": [
    "df.iloc[1,1]"
   ]
  },
  {
   "cell_type": "code",
   "execution_count": 30,
   "id": "ad981330",
   "metadata": {},
   "outputs": [
    {
     "data": {
      "text/html": [
       "<div>\n",
       "<style scoped>\n",
       "    .dataframe tbody tr th:only-of-type {\n",
       "        vertical-align: middle;\n",
       "    }\n",
       "\n",
       "    .dataframe tbody tr th {\n",
       "        vertical-align: top;\n",
       "    }\n",
       "\n",
       "    .dataframe thead th {\n",
       "        text-align: right;\n",
       "    }\n",
       "</style>\n",
       "<table border=\"1\" class=\"dataframe\">\n",
       "  <thead>\n",
       "    <tr style=\"text-align: right;\">\n",
       "      <th></th>\n",
       "      <th>A</th>\n",
       "      <th>B</th>\n",
       "      <th>C</th>\n",
       "      <th>D</th>\n",
       "    </tr>\n",
       "  </thead>\n",
       "  <tbody>\n",
       "    <tr>\n",
       "      <th>2013-01-01</th>\n",
       "      <td>-0.932350</td>\n",
       "      <td>-1.516858</td>\n",
       "      <td>-0.767804</td>\n",
       "      <td>0.857554</td>\n",
       "    </tr>\n",
       "    <tr>\n",
       "      <th>2013-01-02</th>\n",
       "      <td>0.197324</td>\n",
       "      <td>-0.615708</td>\n",
       "      <td>0.165884</td>\n",
       "      <td>-0.345780</td>\n",
       "    </tr>\n",
       "    <tr>\n",
       "      <th>2013-01-03</th>\n",
       "      <td>1.479831</td>\n",
       "      <td>-0.920187</td>\n",
       "      <td>-1.936188</td>\n",
       "      <td>-0.771645</td>\n",
       "    </tr>\n",
       "    <tr>\n",
       "      <th>2013-01-04</th>\n",
       "      <td>-2.888471</td>\n",
       "      <td>-0.192728</td>\n",
       "      <td>0.110544</td>\n",
       "      <td>0.390994</td>\n",
       "    </tr>\n",
       "    <tr>\n",
       "      <th>2013-01-05</th>\n",
       "      <td>-0.113759</td>\n",
       "      <td>-0.140094</td>\n",
       "      <td>0.816357</td>\n",
       "      <td>-0.748742</td>\n",
       "    </tr>\n",
       "    <tr>\n",
       "      <th>2013-01-06</th>\n",
       "      <td>1.064922</td>\n",
       "      <td>0.951722</td>\n",
       "      <td>-1.186174</td>\n",
       "      <td>-0.685211</td>\n",
       "    </tr>\n",
       "  </tbody>\n",
       "</table>\n",
       "</div>"
      ],
      "text/plain": [
       "                   A         B         C         D\n",
       "2013-01-01 -0.932350 -1.516858 -0.767804  0.857554\n",
       "2013-01-02  0.197324 -0.615708  0.165884 -0.345780\n",
       "2013-01-03  1.479831 -0.920187 -1.936188 -0.771645\n",
       "2013-01-04 -2.888471 -0.192728  0.110544  0.390994\n",
       "2013-01-05 -0.113759 -0.140094  0.816357 -0.748742\n",
       "2013-01-06  1.064922  0.951722 -1.186174 -0.685211"
      ]
     },
     "execution_count": 30,
     "metadata": {},
     "output_type": "execute_result"
    }
   ],
   "source": [
    "df"
   ]
  },
  {
   "cell_type": "markdown",
   "id": "c7b61ced",
   "metadata": {},
   "source": [
    "Boolean Indexing"
   ]
  },
  {
   "cell_type": "code",
   "execution_count": 31,
   "id": "d8f09005",
   "metadata": {},
   "outputs": [
    {
     "data": {
      "text/html": [
       "<div>\n",
       "<style scoped>\n",
       "    .dataframe tbody tr th:only-of-type {\n",
       "        vertical-align: middle;\n",
       "    }\n",
       "\n",
       "    .dataframe tbody tr th {\n",
       "        vertical-align: top;\n",
       "    }\n",
       "\n",
       "    .dataframe thead th {\n",
       "        text-align: right;\n",
       "    }\n",
       "</style>\n",
       "<table border=\"1\" class=\"dataframe\">\n",
       "  <thead>\n",
       "    <tr style=\"text-align: right;\">\n",
       "      <th></th>\n",
       "      <th>A</th>\n",
       "      <th>B</th>\n",
       "      <th>C</th>\n",
       "      <th>D</th>\n",
       "    </tr>\n",
       "  </thead>\n",
       "  <tbody>\n",
       "    <tr>\n",
       "      <th>2013-01-02</th>\n",
       "      <td>0.197324</td>\n",
       "      <td>-0.615708</td>\n",
       "      <td>0.165884</td>\n",
       "      <td>-0.345780</td>\n",
       "    </tr>\n",
       "    <tr>\n",
       "      <th>2013-01-03</th>\n",
       "      <td>1.479831</td>\n",
       "      <td>-0.920187</td>\n",
       "      <td>-1.936188</td>\n",
       "      <td>-0.771645</td>\n",
       "    </tr>\n",
       "    <tr>\n",
       "      <th>2013-01-06</th>\n",
       "      <td>1.064922</td>\n",
       "      <td>0.951722</td>\n",
       "      <td>-1.186174</td>\n",
       "      <td>-0.685211</td>\n",
       "    </tr>\n",
       "  </tbody>\n",
       "</table>\n",
       "</div>"
      ],
      "text/plain": [
       "                   A         B         C         D\n",
       "2013-01-02  0.197324 -0.615708  0.165884 -0.345780\n",
       "2013-01-03  1.479831 -0.920187 -1.936188 -0.771645\n",
       "2013-01-06  1.064922  0.951722 -1.186174 -0.685211"
      ]
     },
     "execution_count": 31,
     "metadata": {},
     "output_type": "execute_result"
    }
   ],
   "source": [
    "df[df[\"A\"]>0]"
   ]
  },
  {
   "cell_type": "code",
   "execution_count": 32,
   "id": "30b8a7c6",
   "metadata": {},
   "outputs": [
    {
     "data": {
      "text/html": [
       "<div>\n",
       "<style scoped>\n",
       "    .dataframe tbody tr th:only-of-type {\n",
       "        vertical-align: middle;\n",
       "    }\n",
       "\n",
       "    .dataframe tbody tr th {\n",
       "        vertical-align: top;\n",
       "    }\n",
       "\n",
       "    .dataframe thead th {\n",
       "        text-align: right;\n",
       "    }\n",
       "</style>\n",
       "<table border=\"1\" class=\"dataframe\">\n",
       "  <thead>\n",
       "    <tr style=\"text-align: right;\">\n",
       "      <th></th>\n",
       "      <th>A</th>\n",
       "      <th>B</th>\n",
       "      <th>C</th>\n",
       "      <th>D</th>\n",
       "    </tr>\n",
       "  </thead>\n",
       "  <tbody>\n",
       "    <tr>\n",
       "      <th>2013-01-01</th>\n",
       "      <td>NaN</td>\n",
       "      <td>NaN</td>\n",
       "      <td>NaN</td>\n",
       "      <td>0.857554</td>\n",
       "    </tr>\n",
       "    <tr>\n",
       "      <th>2013-01-02</th>\n",
       "      <td>0.197324</td>\n",
       "      <td>NaN</td>\n",
       "      <td>0.165884</td>\n",
       "      <td>NaN</td>\n",
       "    </tr>\n",
       "    <tr>\n",
       "      <th>2013-01-03</th>\n",
       "      <td>1.479831</td>\n",
       "      <td>NaN</td>\n",
       "      <td>NaN</td>\n",
       "      <td>NaN</td>\n",
       "    </tr>\n",
       "    <tr>\n",
       "      <th>2013-01-04</th>\n",
       "      <td>NaN</td>\n",
       "      <td>NaN</td>\n",
       "      <td>0.110544</td>\n",
       "      <td>0.390994</td>\n",
       "    </tr>\n",
       "    <tr>\n",
       "      <th>2013-01-05</th>\n",
       "      <td>NaN</td>\n",
       "      <td>NaN</td>\n",
       "      <td>0.816357</td>\n",
       "      <td>NaN</td>\n",
       "    </tr>\n",
       "    <tr>\n",
       "      <th>2013-01-06</th>\n",
       "      <td>1.064922</td>\n",
       "      <td>0.951722</td>\n",
       "      <td>NaN</td>\n",
       "      <td>NaN</td>\n",
       "    </tr>\n",
       "  </tbody>\n",
       "</table>\n",
       "</div>"
      ],
      "text/plain": [
       "                   A         B         C         D\n",
       "2013-01-01       NaN       NaN       NaN  0.857554\n",
       "2013-01-02  0.197324       NaN  0.165884       NaN\n",
       "2013-01-03  1.479831       NaN       NaN       NaN\n",
       "2013-01-04       NaN       NaN  0.110544  0.390994\n",
       "2013-01-05       NaN       NaN  0.816357       NaN\n",
       "2013-01-06  1.064922  0.951722       NaN       NaN"
      ]
     },
     "execution_count": 32,
     "metadata": {},
     "output_type": "execute_result"
    }
   ],
   "source": [
    "df[df>0]"
   ]
  },
  {
   "cell_type": "code",
   "execution_count": 33,
   "id": "27bbeb84",
   "metadata": {},
   "outputs": [],
   "source": [
    "df2 = df.copy()"
   ]
  },
  {
   "cell_type": "code",
   "execution_count": 34,
   "id": "62988018",
   "metadata": {},
   "outputs": [],
   "source": [
    "df2[\"E\"] = [\"one\",\"one\",\"two\",\"three\",\"four\",\"three\"]"
   ]
  },
  {
   "cell_type": "code",
   "execution_count": 35,
   "id": "5bfa3eb6",
   "metadata": {},
   "outputs": [
    {
     "data": {
      "text/html": [
       "<div>\n",
       "<style scoped>\n",
       "    .dataframe tbody tr th:only-of-type {\n",
       "        vertical-align: middle;\n",
       "    }\n",
       "\n",
       "    .dataframe tbody tr th {\n",
       "        vertical-align: top;\n",
       "    }\n",
       "\n",
       "    .dataframe thead th {\n",
       "        text-align: right;\n",
       "    }\n",
       "</style>\n",
       "<table border=\"1\" class=\"dataframe\">\n",
       "  <thead>\n",
       "    <tr style=\"text-align: right;\">\n",
       "      <th></th>\n",
       "      <th>A</th>\n",
       "      <th>B</th>\n",
       "      <th>C</th>\n",
       "      <th>D</th>\n",
       "      <th>E</th>\n",
       "    </tr>\n",
       "  </thead>\n",
       "  <tbody>\n",
       "    <tr>\n",
       "      <th>2013-01-01</th>\n",
       "      <td>-0.932350</td>\n",
       "      <td>-1.516858</td>\n",
       "      <td>-0.767804</td>\n",
       "      <td>0.857554</td>\n",
       "      <td>one</td>\n",
       "    </tr>\n",
       "    <tr>\n",
       "      <th>2013-01-02</th>\n",
       "      <td>0.197324</td>\n",
       "      <td>-0.615708</td>\n",
       "      <td>0.165884</td>\n",
       "      <td>-0.345780</td>\n",
       "      <td>one</td>\n",
       "    </tr>\n",
       "    <tr>\n",
       "      <th>2013-01-03</th>\n",
       "      <td>1.479831</td>\n",
       "      <td>-0.920187</td>\n",
       "      <td>-1.936188</td>\n",
       "      <td>-0.771645</td>\n",
       "      <td>two</td>\n",
       "    </tr>\n",
       "    <tr>\n",
       "      <th>2013-01-04</th>\n",
       "      <td>-2.888471</td>\n",
       "      <td>-0.192728</td>\n",
       "      <td>0.110544</td>\n",
       "      <td>0.390994</td>\n",
       "      <td>three</td>\n",
       "    </tr>\n",
       "    <tr>\n",
       "      <th>2013-01-05</th>\n",
       "      <td>-0.113759</td>\n",
       "      <td>-0.140094</td>\n",
       "      <td>0.816357</td>\n",
       "      <td>-0.748742</td>\n",
       "      <td>four</td>\n",
       "    </tr>\n",
       "    <tr>\n",
       "      <th>2013-01-06</th>\n",
       "      <td>1.064922</td>\n",
       "      <td>0.951722</td>\n",
       "      <td>-1.186174</td>\n",
       "      <td>-0.685211</td>\n",
       "      <td>three</td>\n",
       "    </tr>\n",
       "  </tbody>\n",
       "</table>\n",
       "</div>"
      ],
      "text/plain": [
       "                   A         B         C         D      E\n",
       "2013-01-01 -0.932350 -1.516858 -0.767804  0.857554    one\n",
       "2013-01-02  0.197324 -0.615708  0.165884 -0.345780    one\n",
       "2013-01-03  1.479831 -0.920187 -1.936188 -0.771645    two\n",
       "2013-01-04 -2.888471 -0.192728  0.110544  0.390994  three\n",
       "2013-01-05 -0.113759 -0.140094  0.816357 -0.748742   four\n",
       "2013-01-06  1.064922  0.951722 -1.186174 -0.685211  three"
      ]
     },
     "execution_count": 35,
     "metadata": {},
     "output_type": "execute_result"
    }
   ],
   "source": [
    "df2 "
   ]
  },
  {
   "cell_type": "markdown",
   "id": "e9a37956",
   "metadata": {},
   "source": [
    "Setting"
   ]
  },
  {
   "cell_type": "code",
   "execution_count": 36,
   "id": "d44a7424",
   "metadata": {},
   "outputs": [],
   "source": [
    "s1 = pd.Series([1,2,3,4,5,6],index=pd.date_range(\"20130102\",periods=6))"
   ]
  },
  {
   "cell_type": "code",
   "execution_count": 37,
   "id": "54b53769",
   "metadata": {},
   "outputs": [
    {
     "data": {
      "text/plain": [
       "2013-01-02    1\n",
       "2013-01-03    2\n",
       "2013-01-04    3\n",
       "2013-01-05    4\n",
       "2013-01-06    5\n",
       "2013-01-07    6\n",
       "Freq: D, dtype: int64"
      ]
     },
     "execution_count": 37,
     "metadata": {},
     "output_type": "execute_result"
    }
   ],
   "source": [
    "s1"
   ]
  },
  {
   "cell_type": "code",
   "execution_count": 38,
   "id": "f957492f",
   "metadata": {},
   "outputs": [],
   "source": [
    "df[\"F\"]=s1"
   ]
  },
  {
   "cell_type": "code",
   "execution_count": 39,
   "id": "e583c803",
   "metadata": {},
   "outputs": [],
   "source": [
    "df.at[dates[0],\"A\"]=0"
   ]
  },
  {
   "cell_type": "code",
   "execution_count": 40,
   "id": "a37f0299",
   "metadata": {},
   "outputs": [],
   "source": [
    "df.iat[0,1]=0"
   ]
  },
  {
   "cell_type": "markdown",
   "id": "af3d04c4",
   "metadata": {},
   "source": [
    "df.at(row_label, column_label) is used with labels... df.iat(row_index, column_index) is used with row and column integer index starting from "
   ]
  },
  {
   "cell_type": "code",
   "execution_count": 41,
   "id": "cafd49c6",
   "metadata": {},
   "outputs": [
    {
     "data": {
      "text/html": [
       "<div>\n",
       "<style scoped>\n",
       "    .dataframe tbody tr th:only-of-type {\n",
       "        vertical-align: middle;\n",
       "    }\n",
       "\n",
       "    .dataframe tbody tr th {\n",
       "        vertical-align: top;\n",
       "    }\n",
       "\n",
       "    .dataframe thead th {\n",
       "        text-align: right;\n",
       "    }\n",
       "</style>\n",
       "<table border=\"1\" class=\"dataframe\">\n",
       "  <thead>\n",
       "    <tr style=\"text-align: right;\">\n",
       "      <th></th>\n",
       "      <th>A</th>\n",
       "      <th>B</th>\n",
       "      <th>C</th>\n",
       "      <th>D</th>\n",
       "      <th>F</th>\n",
       "    </tr>\n",
       "  </thead>\n",
       "  <tbody>\n",
       "    <tr>\n",
       "      <th>2013-01-01</th>\n",
       "      <td>0.000000</td>\n",
       "      <td>0.000000</td>\n",
       "      <td>-0.767804</td>\n",
       "      <td>0.857554</td>\n",
       "      <td>NaN</td>\n",
       "    </tr>\n",
       "    <tr>\n",
       "      <th>2013-01-02</th>\n",
       "      <td>0.197324</td>\n",
       "      <td>-0.615708</td>\n",
       "      <td>0.165884</td>\n",
       "      <td>-0.345780</td>\n",
       "      <td>1.0</td>\n",
       "    </tr>\n",
       "    <tr>\n",
       "      <th>2013-01-03</th>\n",
       "      <td>1.479831</td>\n",
       "      <td>-0.920187</td>\n",
       "      <td>-1.936188</td>\n",
       "      <td>-0.771645</td>\n",
       "      <td>2.0</td>\n",
       "    </tr>\n",
       "    <tr>\n",
       "      <th>2013-01-04</th>\n",
       "      <td>-2.888471</td>\n",
       "      <td>-0.192728</td>\n",
       "      <td>0.110544</td>\n",
       "      <td>0.390994</td>\n",
       "      <td>3.0</td>\n",
       "    </tr>\n",
       "    <tr>\n",
       "      <th>2013-01-05</th>\n",
       "      <td>-0.113759</td>\n",
       "      <td>-0.140094</td>\n",
       "      <td>0.816357</td>\n",
       "      <td>-0.748742</td>\n",
       "      <td>4.0</td>\n",
       "    </tr>\n",
       "    <tr>\n",
       "      <th>2013-01-06</th>\n",
       "      <td>1.064922</td>\n",
       "      <td>0.951722</td>\n",
       "      <td>-1.186174</td>\n",
       "      <td>-0.685211</td>\n",
       "      <td>5.0</td>\n",
       "    </tr>\n",
       "  </tbody>\n",
       "</table>\n",
       "</div>"
      ],
      "text/plain": [
       "                   A         B         C         D    F\n",
       "2013-01-01  0.000000  0.000000 -0.767804  0.857554  NaN\n",
       "2013-01-02  0.197324 -0.615708  0.165884 -0.345780  1.0\n",
       "2013-01-03  1.479831 -0.920187 -1.936188 -0.771645  2.0\n",
       "2013-01-04 -2.888471 -0.192728  0.110544  0.390994  3.0\n",
       "2013-01-05 -0.113759 -0.140094  0.816357 -0.748742  4.0\n",
       "2013-01-06  1.064922  0.951722 -1.186174 -0.685211  5.0"
      ]
     },
     "execution_count": 41,
     "metadata": {},
     "output_type": "execute_result"
    }
   ],
   "source": [
    "df "
   ]
  },
  {
   "cell_type": "code",
   "execution_count": 42,
   "id": "41626c11",
   "metadata": {},
   "outputs": [],
   "source": [
    "df.loc[:,\"D\"]=np.array([5]*len(df))"
   ]
  },
  {
   "cell_type": "code",
   "execution_count": 43,
   "id": "937bc99d",
   "metadata": {},
   "outputs": [
    {
     "data": {
      "text/plain": [
       "6"
      ]
     },
     "execution_count": 43,
     "metadata": {},
     "output_type": "execute_result"
    }
   ],
   "source": [
    "len(df)"
   ]
  },
  {
   "cell_type": "code",
   "execution_count": 44,
   "id": "58c5068e",
   "metadata": {},
   "outputs": [
    {
     "data": {
      "text/html": [
       "<div>\n",
       "<style scoped>\n",
       "    .dataframe tbody tr th:only-of-type {\n",
       "        vertical-align: middle;\n",
       "    }\n",
       "\n",
       "    .dataframe tbody tr th {\n",
       "        vertical-align: top;\n",
       "    }\n",
       "\n",
       "    .dataframe thead th {\n",
       "        text-align: right;\n",
       "    }\n",
       "</style>\n",
       "<table border=\"1\" class=\"dataframe\">\n",
       "  <thead>\n",
       "    <tr style=\"text-align: right;\">\n",
       "      <th></th>\n",
       "      <th>A</th>\n",
       "      <th>B</th>\n",
       "      <th>C</th>\n",
       "      <th>D</th>\n",
       "      <th>F</th>\n",
       "    </tr>\n",
       "  </thead>\n",
       "  <tbody>\n",
       "    <tr>\n",
       "      <th>2013-01-01</th>\n",
       "      <td>0.000000</td>\n",
       "      <td>0.000000</td>\n",
       "      <td>-0.767804</td>\n",
       "      <td>5.0</td>\n",
       "      <td>NaN</td>\n",
       "    </tr>\n",
       "    <tr>\n",
       "      <th>2013-01-02</th>\n",
       "      <td>0.197324</td>\n",
       "      <td>-0.615708</td>\n",
       "      <td>0.165884</td>\n",
       "      <td>5.0</td>\n",
       "      <td>1.0</td>\n",
       "    </tr>\n",
       "    <tr>\n",
       "      <th>2013-01-03</th>\n",
       "      <td>1.479831</td>\n",
       "      <td>-0.920187</td>\n",
       "      <td>-1.936188</td>\n",
       "      <td>5.0</td>\n",
       "      <td>2.0</td>\n",
       "    </tr>\n",
       "    <tr>\n",
       "      <th>2013-01-04</th>\n",
       "      <td>-2.888471</td>\n",
       "      <td>-0.192728</td>\n",
       "      <td>0.110544</td>\n",
       "      <td>5.0</td>\n",
       "      <td>3.0</td>\n",
       "    </tr>\n",
       "    <tr>\n",
       "      <th>2013-01-05</th>\n",
       "      <td>-0.113759</td>\n",
       "      <td>-0.140094</td>\n",
       "      <td>0.816357</td>\n",
       "      <td>5.0</td>\n",
       "      <td>4.0</td>\n",
       "    </tr>\n",
       "    <tr>\n",
       "      <th>2013-01-06</th>\n",
       "      <td>1.064922</td>\n",
       "      <td>0.951722</td>\n",
       "      <td>-1.186174</td>\n",
       "      <td>5.0</td>\n",
       "      <td>5.0</td>\n",
       "    </tr>\n",
       "  </tbody>\n",
       "</table>\n",
       "</div>"
      ],
      "text/plain": [
       "                   A         B         C    D    F\n",
       "2013-01-01  0.000000  0.000000 -0.767804  5.0  NaN\n",
       "2013-01-02  0.197324 -0.615708  0.165884  5.0  1.0\n",
       "2013-01-03  1.479831 -0.920187 -1.936188  5.0  2.0\n",
       "2013-01-04 -2.888471 -0.192728  0.110544  5.0  3.0\n",
       "2013-01-05 -0.113759 -0.140094  0.816357  5.0  4.0\n",
       "2013-01-06  1.064922  0.951722 -1.186174  5.0  5.0"
      ]
     },
     "execution_count": 44,
     "metadata": {},
     "output_type": "execute_result"
    }
   ],
   "source": [
    "df"
   ]
  },
  {
   "cell_type": "code",
   "execution_count": 45,
   "id": "bf359808",
   "metadata": {},
   "outputs": [],
   "source": [
    "df2 = df.copy()"
   ]
  },
  {
   "cell_type": "code",
   "execution_count": 46,
   "id": "68990f80",
   "metadata": {},
   "outputs": [
    {
     "data": {
      "text/html": [
       "<div>\n",
       "<style scoped>\n",
       "    .dataframe tbody tr th:only-of-type {\n",
       "        vertical-align: middle;\n",
       "    }\n",
       "\n",
       "    .dataframe tbody tr th {\n",
       "        vertical-align: top;\n",
       "    }\n",
       "\n",
       "    .dataframe thead th {\n",
       "        text-align: right;\n",
       "    }\n",
       "</style>\n",
       "<table border=\"1\" class=\"dataframe\">\n",
       "  <thead>\n",
       "    <tr style=\"text-align: right;\">\n",
       "      <th></th>\n",
       "      <th>A</th>\n",
       "      <th>B</th>\n",
       "      <th>C</th>\n",
       "      <th>D</th>\n",
       "      <th>F</th>\n",
       "    </tr>\n",
       "  </thead>\n",
       "  <tbody>\n",
       "    <tr>\n",
       "      <th>2013-01-01</th>\n",
       "      <td>0.000000</td>\n",
       "      <td>0.000000</td>\n",
       "      <td>-0.767804</td>\n",
       "      <td>-5.0</td>\n",
       "      <td>NaN</td>\n",
       "    </tr>\n",
       "    <tr>\n",
       "      <th>2013-01-02</th>\n",
       "      <td>-0.197324</td>\n",
       "      <td>-0.615708</td>\n",
       "      <td>-0.165884</td>\n",
       "      <td>-5.0</td>\n",
       "      <td>-1.0</td>\n",
       "    </tr>\n",
       "    <tr>\n",
       "      <th>2013-01-03</th>\n",
       "      <td>-1.479831</td>\n",
       "      <td>-0.920187</td>\n",
       "      <td>-1.936188</td>\n",
       "      <td>-5.0</td>\n",
       "      <td>-2.0</td>\n",
       "    </tr>\n",
       "    <tr>\n",
       "      <th>2013-01-04</th>\n",
       "      <td>-2.888471</td>\n",
       "      <td>-0.192728</td>\n",
       "      <td>-0.110544</td>\n",
       "      <td>-5.0</td>\n",
       "      <td>-3.0</td>\n",
       "    </tr>\n",
       "    <tr>\n",
       "      <th>2013-01-05</th>\n",
       "      <td>-0.113759</td>\n",
       "      <td>-0.140094</td>\n",
       "      <td>-0.816357</td>\n",
       "      <td>-5.0</td>\n",
       "      <td>-4.0</td>\n",
       "    </tr>\n",
       "    <tr>\n",
       "      <th>2013-01-06</th>\n",
       "      <td>-1.064922</td>\n",
       "      <td>-0.951722</td>\n",
       "      <td>-1.186174</td>\n",
       "      <td>-5.0</td>\n",
       "      <td>-5.0</td>\n",
       "    </tr>\n",
       "  </tbody>\n",
       "</table>\n",
       "</div>"
      ],
      "text/plain": [
       "                   A         B         C    D    F\n",
       "2013-01-01  0.000000  0.000000 -0.767804 -5.0  NaN\n",
       "2013-01-02 -0.197324 -0.615708 -0.165884 -5.0 -1.0\n",
       "2013-01-03 -1.479831 -0.920187 -1.936188 -5.0 -2.0\n",
       "2013-01-04 -2.888471 -0.192728 -0.110544 -5.0 -3.0\n",
       "2013-01-05 -0.113759 -0.140094 -0.816357 -5.0 -4.0\n",
       "2013-01-06 -1.064922 -0.951722 -1.186174 -5.0 -5.0"
      ]
     },
     "execution_count": 46,
     "metadata": {},
     "output_type": "execute_result"
    }
   ],
   "source": [
    "df2[df2>0]= -df2\n",
    "df2"
   ]
  },
  {
   "cell_type": "markdown",
   "id": "f46d6c5a",
   "metadata": {},
   "source": [
    "Missing Data"
   ]
  },
  {
   "cell_type": "code",
   "execution_count": 47,
   "id": "295fce3b",
   "metadata": {},
   "outputs": [
    {
     "data": {
      "text/html": [
       "<div>\n",
       "<style scoped>\n",
       "    .dataframe tbody tr th:only-of-type {\n",
       "        vertical-align: middle;\n",
       "    }\n",
       "\n",
       "    .dataframe tbody tr th {\n",
       "        vertical-align: top;\n",
       "    }\n",
       "\n",
       "    .dataframe thead th {\n",
       "        text-align: right;\n",
       "    }\n",
       "</style>\n",
       "<table border=\"1\" class=\"dataframe\">\n",
       "  <thead>\n",
       "    <tr style=\"text-align: right;\">\n",
       "      <th></th>\n",
       "      <th>A</th>\n",
       "      <th>B</th>\n",
       "      <th>C</th>\n",
       "      <th>D</th>\n",
       "      <th>F</th>\n",
       "      <th>E</th>\n",
       "    </tr>\n",
       "  </thead>\n",
       "  <tbody>\n",
       "    <tr>\n",
       "      <th>2013-01-01</th>\n",
       "      <td>0.000000</td>\n",
       "      <td>0.000000</td>\n",
       "      <td>-0.767804</td>\n",
       "      <td>5.0</td>\n",
       "      <td>NaN</td>\n",
       "      <td>NaN</td>\n",
       "    </tr>\n",
       "    <tr>\n",
       "      <th>2013-01-02</th>\n",
       "      <td>0.197324</td>\n",
       "      <td>-0.615708</td>\n",
       "      <td>0.165884</td>\n",
       "      <td>5.0</td>\n",
       "      <td>1.0</td>\n",
       "      <td>NaN</td>\n",
       "    </tr>\n",
       "    <tr>\n",
       "      <th>2013-01-03</th>\n",
       "      <td>1.479831</td>\n",
       "      <td>-0.920187</td>\n",
       "      <td>-1.936188</td>\n",
       "      <td>5.0</td>\n",
       "      <td>2.0</td>\n",
       "      <td>NaN</td>\n",
       "    </tr>\n",
       "    <tr>\n",
       "      <th>2013-01-04</th>\n",
       "      <td>-2.888471</td>\n",
       "      <td>-0.192728</td>\n",
       "      <td>0.110544</td>\n",
       "      <td>5.0</td>\n",
       "      <td>3.0</td>\n",
       "      <td>NaN</td>\n",
       "    </tr>\n",
       "  </tbody>\n",
       "</table>\n",
       "</div>"
      ],
      "text/plain": [
       "                   A         B         C    D    F   E\n",
       "2013-01-01  0.000000  0.000000 -0.767804  5.0  NaN NaN\n",
       "2013-01-02  0.197324 -0.615708  0.165884  5.0  1.0 NaN\n",
       "2013-01-03  1.479831 -0.920187 -1.936188  5.0  2.0 NaN\n",
       "2013-01-04 -2.888471 -0.192728  0.110544  5.0  3.0 NaN"
      ]
     },
     "execution_count": 47,
     "metadata": {},
     "output_type": "execute_result"
    }
   ],
   "source": [
    "df1 = df.reindex(index=dates[0:4], columns =list(df.columns)+[\"E\"])\n",
    "df1"
   ]
  },
  {
   "cell_type": "code",
   "execution_count": 48,
   "id": "1ba7805d",
   "metadata": {},
   "outputs": [],
   "source": [
    "df1.loc[dates[0]: dates[1],\"E\"]=1"
   ]
  },
  {
   "cell_type": "code",
   "execution_count": 49,
   "id": "c3ae34ba",
   "metadata": {},
   "outputs": [
    {
     "data": {
      "text/html": [
       "<div>\n",
       "<style scoped>\n",
       "    .dataframe tbody tr th:only-of-type {\n",
       "        vertical-align: middle;\n",
       "    }\n",
       "\n",
       "    .dataframe tbody tr th {\n",
       "        vertical-align: top;\n",
       "    }\n",
       "\n",
       "    .dataframe thead th {\n",
       "        text-align: right;\n",
       "    }\n",
       "</style>\n",
       "<table border=\"1\" class=\"dataframe\">\n",
       "  <thead>\n",
       "    <tr style=\"text-align: right;\">\n",
       "      <th></th>\n",
       "      <th>A</th>\n",
       "      <th>B</th>\n",
       "      <th>C</th>\n",
       "      <th>D</th>\n",
       "      <th>F</th>\n",
       "      <th>E</th>\n",
       "    </tr>\n",
       "  </thead>\n",
       "  <tbody>\n",
       "    <tr>\n",
       "      <th>2013-01-01</th>\n",
       "      <td>0.000000</td>\n",
       "      <td>0.000000</td>\n",
       "      <td>-0.767804</td>\n",
       "      <td>5.0</td>\n",
       "      <td>NaN</td>\n",
       "      <td>1.0</td>\n",
       "    </tr>\n",
       "    <tr>\n",
       "      <th>2013-01-02</th>\n",
       "      <td>0.197324</td>\n",
       "      <td>-0.615708</td>\n",
       "      <td>0.165884</td>\n",
       "      <td>5.0</td>\n",
       "      <td>1.0</td>\n",
       "      <td>1.0</td>\n",
       "    </tr>\n",
       "    <tr>\n",
       "      <th>2013-01-03</th>\n",
       "      <td>1.479831</td>\n",
       "      <td>-0.920187</td>\n",
       "      <td>-1.936188</td>\n",
       "      <td>5.0</td>\n",
       "      <td>2.0</td>\n",
       "      <td>NaN</td>\n",
       "    </tr>\n",
       "    <tr>\n",
       "      <th>2013-01-04</th>\n",
       "      <td>-2.888471</td>\n",
       "      <td>-0.192728</td>\n",
       "      <td>0.110544</td>\n",
       "      <td>5.0</td>\n",
       "      <td>3.0</td>\n",
       "      <td>NaN</td>\n",
       "    </tr>\n",
       "  </tbody>\n",
       "</table>\n",
       "</div>"
      ],
      "text/plain": [
       "                   A         B         C    D    F    E\n",
       "2013-01-01  0.000000  0.000000 -0.767804  5.0  NaN  1.0\n",
       "2013-01-02  0.197324 -0.615708  0.165884  5.0  1.0  1.0\n",
       "2013-01-03  1.479831 -0.920187 -1.936188  5.0  2.0  NaN\n",
       "2013-01-04 -2.888471 -0.192728  0.110544  5.0  3.0  NaN"
      ]
     },
     "execution_count": 49,
     "metadata": {},
     "output_type": "execute_result"
    }
   ],
   "source": [
    "df1"
   ]
  },
  {
   "cell_type": "markdown",
   "id": "cdb04d9f",
   "metadata": {},
   "source": [
    "Drop Missing Values"
   ]
  },
  {
   "cell_type": "code",
   "execution_count": 50,
   "id": "2809ab80",
   "metadata": {},
   "outputs": [
    {
     "data": {
      "text/html": [
       "<div>\n",
       "<style scoped>\n",
       "    .dataframe tbody tr th:only-of-type {\n",
       "        vertical-align: middle;\n",
       "    }\n",
       "\n",
       "    .dataframe tbody tr th {\n",
       "        vertical-align: top;\n",
       "    }\n",
       "\n",
       "    .dataframe thead th {\n",
       "        text-align: right;\n",
       "    }\n",
       "</style>\n",
       "<table border=\"1\" class=\"dataframe\">\n",
       "  <thead>\n",
       "    <tr style=\"text-align: right;\">\n",
       "      <th></th>\n",
       "      <th>A</th>\n",
       "      <th>B</th>\n",
       "      <th>C</th>\n",
       "      <th>D</th>\n",
       "      <th>F</th>\n",
       "      <th>E</th>\n",
       "    </tr>\n",
       "  </thead>\n",
       "  <tbody>\n",
       "    <tr>\n",
       "      <th>2013-01-01</th>\n",
       "      <td>0.000000</td>\n",
       "      <td>0.000000</td>\n",
       "      <td>-0.767804</td>\n",
       "      <td>5.0</td>\n",
       "      <td>NaN</td>\n",
       "      <td>1.0</td>\n",
       "    </tr>\n",
       "    <tr>\n",
       "      <th>2013-01-02</th>\n",
       "      <td>0.197324</td>\n",
       "      <td>-0.615708</td>\n",
       "      <td>0.165884</td>\n",
       "      <td>5.0</td>\n",
       "      <td>1.0</td>\n",
       "      <td>1.0</td>\n",
       "    </tr>\n",
       "    <tr>\n",
       "      <th>2013-01-03</th>\n",
       "      <td>1.479831</td>\n",
       "      <td>-0.920187</td>\n",
       "      <td>-1.936188</td>\n",
       "      <td>5.0</td>\n",
       "      <td>2.0</td>\n",
       "      <td>NaN</td>\n",
       "    </tr>\n",
       "    <tr>\n",
       "      <th>2013-01-04</th>\n",
       "      <td>-2.888471</td>\n",
       "      <td>-0.192728</td>\n",
       "      <td>0.110544</td>\n",
       "      <td>5.0</td>\n",
       "      <td>3.0</td>\n",
       "      <td>NaN</td>\n",
       "    </tr>\n",
       "  </tbody>\n",
       "</table>\n",
       "</div>"
      ],
      "text/plain": [
       "                   A         B         C    D    F    E\n",
       "2013-01-01  0.000000  0.000000 -0.767804  5.0  NaN  1.0\n",
       "2013-01-02  0.197324 -0.615708  0.165884  5.0  1.0  1.0\n",
       "2013-01-03  1.479831 -0.920187 -1.936188  5.0  2.0  NaN\n",
       "2013-01-04 -2.888471 -0.192728  0.110544  5.0  3.0  NaN"
      ]
     },
     "execution_count": 50,
     "metadata": {},
     "output_type": "execute_result"
    }
   ],
   "source": [
    "df1.dropna(how=\"any\", axis=1)\n",
    "df1"
   ]
  },
  {
   "cell_type": "code",
   "execution_count": 51,
   "id": "b8c72cdf",
   "metadata": {},
   "outputs": [],
   "source": [
    "p=df1.dropna(how=\"all\", axis=1)"
   ]
  },
  {
   "cell_type": "code",
   "execution_count": 52,
   "id": "e249f9aa",
   "metadata": {},
   "outputs": [
    {
     "data": {
      "text/html": [
       "<div>\n",
       "<style scoped>\n",
       "    .dataframe tbody tr th:only-of-type {\n",
       "        vertical-align: middle;\n",
       "    }\n",
       "\n",
       "    .dataframe tbody tr th {\n",
       "        vertical-align: top;\n",
       "    }\n",
       "\n",
       "    .dataframe thead th {\n",
       "        text-align: right;\n",
       "    }\n",
       "</style>\n",
       "<table border=\"1\" class=\"dataframe\">\n",
       "  <thead>\n",
       "    <tr style=\"text-align: right;\">\n",
       "      <th></th>\n",
       "      <th>A</th>\n",
       "      <th>B</th>\n",
       "      <th>C</th>\n",
       "      <th>D</th>\n",
       "      <th>F</th>\n",
       "      <th>E</th>\n",
       "    </tr>\n",
       "  </thead>\n",
       "  <tbody>\n",
       "    <tr>\n",
       "      <th>2013-01-01</th>\n",
       "      <td>0.000000</td>\n",
       "      <td>0.000000</td>\n",
       "      <td>-0.767804</td>\n",
       "      <td>5.0</td>\n",
       "      <td>NaN</td>\n",
       "      <td>1.0</td>\n",
       "    </tr>\n",
       "    <tr>\n",
       "      <th>2013-01-02</th>\n",
       "      <td>0.197324</td>\n",
       "      <td>-0.615708</td>\n",
       "      <td>0.165884</td>\n",
       "      <td>5.0</td>\n",
       "      <td>1.0</td>\n",
       "      <td>1.0</td>\n",
       "    </tr>\n",
       "    <tr>\n",
       "      <th>2013-01-03</th>\n",
       "      <td>1.479831</td>\n",
       "      <td>-0.920187</td>\n",
       "      <td>-1.936188</td>\n",
       "      <td>5.0</td>\n",
       "      <td>2.0</td>\n",
       "      <td>NaN</td>\n",
       "    </tr>\n",
       "    <tr>\n",
       "      <th>2013-01-04</th>\n",
       "      <td>-2.888471</td>\n",
       "      <td>-0.192728</td>\n",
       "      <td>0.110544</td>\n",
       "      <td>5.0</td>\n",
       "      <td>3.0</td>\n",
       "      <td>NaN</td>\n",
       "    </tr>\n",
       "  </tbody>\n",
       "</table>\n",
       "</div>"
      ],
      "text/plain": [
       "                   A         B         C    D    F    E\n",
       "2013-01-01  0.000000  0.000000 -0.767804  5.0  NaN  1.0\n",
       "2013-01-02  0.197324 -0.615708  0.165884  5.0  1.0  1.0\n",
       "2013-01-03  1.479831 -0.920187 -1.936188  5.0  2.0  NaN\n",
       "2013-01-04 -2.888471 -0.192728  0.110544  5.0  3.0  NaN"
      ]
     },
     "execution_count": 52,
     "metadata": {},
     "output_type": "execute_result"
    }
   ],
   "source": [
    "p"
   ]
  },
  {
   "cell_type": "code",
   "execution_count": 53,
   "id": "23018b65",
   "metadata": {},
   "outputs": [
    {
     "data": {
      "text/html": [
       "<div>\n",
       "<style scoped>\n",
       "    .dataframe tbody tr th:only-of-type {\n",
       "        vertical-align: middle;\n",
       "    }\n",
       "\n",
       "    .dataframe tbody tr th {\n",
       "        vertical-align: top;\n",
       "    }\n",
       "\n",
       "    .dataframe thead th {\n",
       "        text-align: right;\n",
       "    }\n",
       "</style>\n",
       "<table border=\"1\" class=\"dataframe\">\n",
       "  <thead>\n",
       "    <tr style=\"text-align: right;\">\n",
       "      <th></th>\n",
       "      <th>A</th>\n",
       "      <th>B</th>\n",
       "      <th>C</th>\n",
       "      <th>D</th>\n",
       "      <th>F</th>\n",
       "    </tr>\n",
       "  </thead>\n",
       "  <tbody>\n",
       "    <tr>\n",
       "      <th>2013-01-01</th>\n",
       "      <td>0.000000</td>\n",
       "      <td>0.000000</td>\n",
       "      <td>-0.767804</td>\n",
       "      <td>5.0</td>\n",
       "      <td>NaN</td>\n",
       "    </tr>\n",
       "    <tr>\n",
       "      <th>2013-01-02</th>\n",
       "      <td>0.197324</td>\n",
       "      <td>-0.615708</td>\n",
       "      <td>0.165884</td>\n",
       "      <td>5.0</td>\n",
       "      <td>1.0</td>\n",
       "    </tr>\n",
       "    <tr>\n",
       "      <th>2013-01-03</th>\n",
       "      <td>1.479831</td>\n",
       "      <td>-0.920187</td>\n",
       "      <td>-1.936188</td>\n",
       "      <td>5.0</td>\n",
       "      <td>2.0</td>\n",
       "    </tr>\n",
       "    <tr>\n",
       "      <th>2013-01-04</th>\n",
       "      <td>-2.888471</td>\n",
       "      <td>-0.192728</td>\n",
       "      <td>0.110544</td>\n",
       "      <td>5.0</td>\n",
       "      <td>3.0</td>\n",
       "    </tr>\n",
       "    <tr>\n",
       "      <th>2013-01-05</th>\n",
       "      <td>-0.113759</td>\n",
       "      <td>-0.140094</td>\n",
       "      <td>0.816357</td>\n",
       "      <td>5.0</td>\n",
       "      <td>4.0</td>\n",
       "    </tr>\n",
       "    <tr>\n",
       "      <th>2013-01-06</th>\n",
       "      <td>1.064922</td>\n",
       "      <td>0.951722</td>\n",
       "      <td>-1.186174</td>\n",
       "      <td>5.0</td>\n",
       "      <td>5.0</td>\n",
       "    </tr>\n",
       "  </tbody>\n",
       "</table>\n",
       "</div>"
      ],
      "text/plain": [
       "                   A         B         C    D    F\n",
       "2013-01-01  0.000000  0.000000 -0.767804  5.0  NaN\n",
       "2013-01-02  0.197324 -0.615708  0.165884  5.0  1.0\n",
       "2013-01-03  1.479831 -0.920187 -1.936188  5.0  2.0\n",
       "2013-01-04 -2.888471 -0.192728  0.110544  5.0  3.0\n",
       "2013-01-05 -0.113759 -0.140094  0.816357  5.0  4.0\n",
       "2013-01-06  1.064922  0.951722 -1.186174  5.0  5.0"
      ]
     },
     "execution_count": 53,
     "metadata": {},
     "output_type": "execute_result"
    }
   ],
   "source": [
    "df "
   ]
  },
  {
   "cell_type": "code",
   "execution_count": 54,
   "id": "bd8b2d8b",
   "metadata": {},
   "outputs": [],
   "source": [
    "df3 = df.copy()"
   ]
  },
  {
   "cell_type": "code",
   "execution_count": 55,
   "id": "d736696d",
   "metadata": {},
   "outputs": [
    {
     "data": {
      "text/html": [
       "<div>\n",
       "<style scoped>\n",
       "    .dataframe tbody tr th:only-of-type {\n",
       "        vertical-align: middle;\n",
       "    }\n",
       "\n",
       "    .dataframe tbody tr th {\n",
       "        vertical-align: top;\n",
       "    }\n",
       "\n",
       "    .dataframe thead th {\n",
       "        text-align: right;\n",
       "    }\n",
       "</style>\n",
       "<table border=\"1\" class=\"dataframe\">\n",
       "  <thead>\n",
       "    <tr style=\"text-align: right;\">\n",
       "      <th></th>\n",
       "      <th>A</th>\n",
       "      <th>B</th>\n",
       "      <th>C</th>\n",
       "      <th>D</th>\n",
       "      <th>F</th>\n",
       "    </tr>\n",
       "  </thead>\n",
       "  <tbody>\n",
       "    <tr>\n",
       "      <th>2013-01-01</th>\n",
       "      <td>0.000000</td>\n",
       "      <td>0.000000</td>\n",
       "      <td>-0.767804</td>\n",
       "      <td>5.0</td>\n",
       "      <td>NaN</td>\n",
       "    </tr>\n",
       "    <tr>\n",
       "      <th>2013-01-02</th>\n",
       "      <td>0.197324</td>\n",
       "      <td>-0.615708</td>\n",
       "      <td>0.165884</td>\n",
       "      <td>5.0</td>\n",
       "      <td>1.0</td>\n",
       "    </tr>\n",
       "    <tr>\n",
       "      <th>2013-01-03</th>\n",
       "      <td>1.479831</td>\n",
       "      <td>-0.920187</td>\n",
       "      <td>-1.936188</td>\n",
       "      <td>5.0</td>\n",
       "      <td>2.0</td>\n",
       "    </tr>\n",
       "    <tr>\n",
       "      <th>2013-01-04</th>\n",
       "      <td>-2.888471</td>\n",
       "      <td>-0.192728</td>\n",
       "      <td>0.110544</td>\n",
       "      <td>5.0</td>\n",
       "      <td>3.0</td>\n",
       "    </tr>\n",
       "    <tr>\n",
       "      <th>2013-01-05</th>\n",
       "      <td>-0.113759</td>\n",
       "      <td>-0.140094</td>\n",
       "      <td>0.816357</td>\n",
       "      <td>5.0</td>\n",
       "      <td>4.0</td>\n",
       "    </tr>\n",
       "    <tr>\n",
       "      <th>2013-01-06</th>\n",
       "      <td>1.064922</td>\n",
       "      <td>0.951722</td>\n",
       "      <td>-1.186174</td>\n",
       "      <td>5.0</td>\n",
       "      <td>5.0</td>\n",
       "    </tr>\n",
       "  </tbody>\n",
       "</table>\n",
       "</div>"
      ],
      "text/plain": [
       "                   A         B         C    D    F\n",
       "2013-01-01  0.000000  0.000000 -0.767804  5.0  NaN\n",
       "2013-01-02  0.197324 -0.615708  0.165884  5.0  1.0\n",
       "2013-01-03  1.479831 -0.920187 -1.936188  5.0  2.0\n",
       "2013-01-04 -2.888471 -0.192728  0.110544  5.0  3.0\n",
       "2013-01-05 -0.113759 -0.140094  0.816357  5.0  4.0\n",
       "2013-01-06  1.064922  0.951722 -1.186174  5.0  5.0"
      ]
     },
     "execution_count": 55,
     "metadata": {},
     "output_type": "execute_result"
    }
   ],
   "source": [
    "df3"
   ]
  },
  {
   "cell_type": "markdown",
   "id": "6f360920",
   "metadata": {},
   "source": [
    "While using df.dropna function ,,, axis= 0 to remove row , 1 to remove column ... how=\"any\" removes row/column if there is any missing value in the row/column .............. how = \"all\" removes the row./column only if all the value in the row or column are NaN"
   ]
  },
  {
   "cell_type": "code",
   "execution_count": 56,
   "id": "114cb08a",
   "metadata": {},
   "outputs": [
    {
     "data": {
      "text/html": [
       "<div>\n",
       "<style scoped>\n",
       "    .dataframe tbody tr th:only-of-type {\n",
       "        vertical-align: middle;\n",
       "    }\n",
       "\n",
       "    .dataframe tbody tr th {\n",
       "        vertical-align: top;\n",
       "    }\n",
       "\n",
       "    .dataframe thead th {\n",
       "        text-align: right;\n",
       "    }\n",
       "</style>\n",
       "<table border=\"1\" class=\"dataframe\">\n",
       "  <thead>\n",
       "    <tr style=\"text-align: right;\">\n",
       "      <th></th>\n",
       "      <th>A</th>\n",
       "      <th>B</th>\n",
       "      <th>C</th>\n",
       "      <th>D</th>\n",
       "    </tr>\n",
       "  </thead>\n",
       "  <tbody>\n",
       "    <tr>\n",
       "      <th>2013-01-01</th>\n",
       "      <td>0.000000</td>\n",
       "      <td>0.000000</td>\n",
       "      <td>-0.767804</td>\n",
       "      <td>5.0</td>\n",
       "    </tr>\n",
       "    <tr>\n",
       "      <th>2013-01-02</th>\n",
       "      <td>0.197324</td>\n",
       "      <td>-0.615708</td>\n",
       "      <td>0.165884</td>\n",
       "      <td>5.0</td>\n",
       "    </tr>\n",
       "    <tr>\n",
       "      <th>2013-01-03</th>\n",
       "      <td>1.479831</td>\n",
       "      <td>-0.920187</td>\n",
       "      <td>-1.936188</td>\n",
       "      <td>5.0</td>\n",
       "    </tr>\n",
       "    <tr>\n",
       "      <th>2013-01-04</th>\n",
       "      <td>-2.888471</td>\n",
       "      <td>-0.192728</td>\n",
       "      <td>0.110544</td>\n",
       "      <td>5.0</td>\n",
       "    </tr>\n",
       "    <tr>\n",
       "      <th>2013-01-05</th>\n",
       "      <td>-0.113759</td>\n",
       "      <td>-0.140094</td>\n",
       "      <td>0.816357</td>\n",
       "      <td>5.0</td>\n",
       "    </tr>\n",
       "    <tr>\n",
       "      <th>2013-01-06</th>\n",
       "      <td>1.064922</td>\n",
       "      <td>0.951722</td>\n",
       "      <td>-1.186174</td>\n",
       "      <td>5.0</td>\n",
       "    </tr>\n",
       "  </tbody>\n",
       "</table>\n",
       "</div>"
      ],
      "text/plain": [
       "                   A         B         C    D\n",
       "2013-01-01  0.000000  0.000000 -0.767804  5.0\n",
       "2013-01-02  0.197324 -0.615708  0.165884  5.0\n",
       "2013-01-03  1.479831 -0.920187 -1.936188  5.0\n",
       "2013-01-04 -2.888471 -0.192728  0.110544  5.0\n",
       "2013-01-05 -0.113759 -0.140094  0.816357  5.0\n",
       "2013-01-06  1.064922  0.951722 -1.186174  5.0"
      ]
     },
     "execution_count": 56,
     "metadata": {},
     "output_type": "execute_result"
    }
   ],
   "source": [
    "df5 = df3.dropna(axis=1, how=\"any\")\n",
    "df5 "
   ]
  },
  {
   "cell_type": "markdown",
   "id": "d0ef3e95",
   "metadata": {},
   "source": [
    "Operations"
   ]
  },
  {
   "cell_type": "code",
   "execution_count": 57,
   "id": "17daec77",
   "metadata": {},
   "outputs": [
    {
     "data": {
      "text/html": [
       "<div>\n",
       "<style scoped>\n",
       "    .dataframe tbody tr th:only-of-type {\n",
       "        vertical-align: middle;\n",
       "    }\n",
       "\n",
       "    .dataframe tbody tr th {\n",
       "        vertical-align: top;\n",
       "    }\n",
       "\n",
       "    .dataframe thead th {\n",
       "        text-align: right;\n",
       "    }\n",
       "</style>\n",
       "<table border=\"1\" class=\"dataframe\">\n",
       "  <thead>\n",
       "    <tr style=\"text-align: right;\">\n",
       "      <th></th>\n",
       "      <th>A</th>\n",
       "      <th>B</th>\n",
       "      <th>C</th>\n",
       "      <th>D</th>\n",
       "      <th>E</th>\n",
       "    </tr>\n",
       "  </thead>\n",
       "  <tbody>\n",
       "    <tr>\n",
       "      <th>2013-01-01</th>\n",
       "      <td>0.000000</td>\n",
       "      <td>0.000000</td>\n",
       "      <td>-0.767804</td>\n",
       "      <td>5.0</td>\n",
       "      <td>NaN</td>\n",
       "    </tr>\n",
       "    <tr>\n",
       "      <th>2013-01-02</th>\n",
       "      <td>0.197324</td>\n",
       "      <td>-0.615708</td>\n",
       "      <td>0.165884</td>\n",
       "      <td>5.0</td>\n",
       "      <td>1.0</td>\n",
       "    </tr>\n",
       "    <tr>\n",
       "      <th>2013-01-03</th>\n",
       "      <td>1.479831</td>\n",
       "      <td>-0.920187</td>\n",
       "      <td>-1.936188</td>\n",
       "      <td>5.0</td>\n",
       "      <td>2.0</td>\n",
       "    </tr>\n",
       "    <tr>\n",
       "      <th>2013-01-04</th>\n",
       "      <td>-2.888471</td>\n",
       "      <td>-0.192728</td>\n",
       "      <td>0.110544</td>\n",
       "      <td>5.0</td>\n",
       "      <td>3.0</td>\n",
       "    </tr>\n",
       "    <tr>\n",
       "      <th>2013-01-05</th>\n",
       "      <td>-0.113759</td>\n",
       "      <td>-0.140094</td>\n",
       "      <td>0.816357</td>\n",
       "      <td>5.0</td>\n",
       "      <td>4.0</td>\n",
       "    </tr>\n",
       "    <tr>\n",
       "      <th>2013-01-06</th>\n",
       "      <td>1.064922</td>\n",
       "      <td>0.951722</td>\n",
       "      <td>-1.186174</td>\n",
       "      <td>5.0</td>\n",
       "      <td>5.0</td>\n",
       "    </tr>\n",
       "  </tbody>\n",
       "</table>\n",
       "</div>"
      ],
      "text/plain": [
       "                   A         B         C    D    E\n",
       "2013-01-01  0.000000  0.000000 -0.767804  5.0  NaN\n",
       "2013-01-02  0.197324 -0.615708  0.165884  5.0  1.0\n",
       "2013-01-03  1.479831 -0.920187 -1.936188  5.0  2.0\n",
       "2013-01-04 -2.888471 -0.192728  0.110544  5.0  3.0\n",
       "2013-01-05 -0.113759 -0.140094  0.816357  5.0  4.0\n",
       "2013-01-06  1.064922  0.951722 -1.186174  5.0  5.0"
      ]
     },
     "execution_count": 57,
     "metadata": {},
     "output_type": "execute_result"
    }
   ],
   "source": [
    "df.rename(columns={\"F\":\"E\"},inplace=True)\n",
    "df"
   ]
  },
  {
   "cell_type": "code",
   "execution_count": 58,
   "id": "136a4c2d",
   "metadata": {},
   "outputs": [
    {
     "data": {
      "text/plain": [
       "A   -0.043359\n",
       "B   -0.152832\n",
       "C   -0.466230\n",
       "D    5.000000\n",
       "E    3.000000\n",
       "dtype: float64"
      ]
     },
     "execution_count": 58,
     "metadata": {},
     "output_type": "execute_result"
    }
   ],
   "source": [
    "df.mean()"
   ]
  },
  {
   "cell_type": "code",
   "execution_count": 59,
   "id": "f2b4b6a8",
   "metadata": {},
   "outputs": [
    {
     "data": {
      "text/plain": [
       "A   -0.043359\n",
       "B   -0.152832\n",
       "C   -0.466230\n",
       "D    5.000000\n",
       "E    3.000000\n",
       "dtype: float64"
      ]
     },
     "execution_count": 59,
     "metadata": {},
     "output_type": "execute_result"
    }
   ],
   "source": [
    "df.mean(axis=0)"
   ]
  },
  {
   "cell_type": "code",
   "execution_count": 60,
   "id": "3fb7e505",
   "metadata": {},
   "outputs": [
    {
     "data": {
      "text/plain": [
       "2013-01-01    1.058049\n",
       "2013-01-02    1.149500\n",
       "2013-01-03    1.124691\n",
       "2013-01-04    1.005869\n",
       "2013-01-05    1.912501\n",
       "2013-01-06    2.166094\n",
       "Freq: D, dtype: float64"
      ]
     },
     "execution_count": 60,
     "metadata": {},
     "output_type": "execute_result"
    }
   ],
   "source": [
    "df.mean(axis=1)"
   ]
  },
  {
   "cell_type": "code",
   "execution_count": 61,
   "id": "e9c41d7e",
   "metadata": {},
   "outputs": [],
   "source": [
    "s= pd.Series([1,2,5,np.nan,6,8],index=dates).shift(2)"
   ]
  },
  {
   "cell_type": "code",
   "execution_count": 62,
   "id": "ec65e56b",
   "metadata": {},
   "outputs": [
    {
     "data": {
      "text/plain": [
       "(                   A         B         C    D    E\n",
       " 2013-01-01  0.000000  0.000000 -0.767804  5.0  NaN\n",
       " 2013-01-02  0.197324 -0.615708  0.165884  5.0  1.0\n",
       " 2013-01-03  1.479831 -0.920187 -1.936188  5.0  2.0\n",
       " 2013-01-04 -2.888471 -0.192728  0.110544  5.0  3.0\n",
       " 2013-01-05 -0.113759 -0.140094  0.816357  5.0  4.0\n",
       " 2013-01-06  1.064922  0.951722 -1.186174  5.0  5.0,\n",
       " 2013-01-01    NaN\n",
       " 2013-01-02    NaN\n",
       " 2013-01-03    1.0\n",
       " 2013-01-04    2.0\n",
       " 2013-01-05    5.0\n",
       " 2013-01-06    NaN\n",
       " Freq: D, dtype: float64)"
      ]
     },
     "execution_count": 62,
     "metadata": {},
     "output_type": "execute_result"
    }
   ],
   "source": [
    "df,s"
   ]
  },
  {
   "cell_type": "code",
   "execution_count": 63,
   "id": "75636406",
   "metadata": {},
   "outputs": [
    {
     "data": {
      "text/html": [
       "<div>\n",
       "<style scoped>\n",
       "    .dataframe tbody tr th:only-of-type {\n",
       "        vertical-align: middle;\n",
       "    }\n",
       "\n",
       "    .dataframe tbody tr th {\n",
       "        vertical-align: top;\n",
       "    }\n",
       "\n",
       "    .dataframe thead th {\n",
       "        text-align: right;\n",
       "    }\n",
       "</style>\n",
       "<table border=\"1\" class=\"dataframe\">\n",
       "  <thead>\n",
       "    <tr style=\"text-align: right;\">\n",
       "      <th></th>\n",
       "      <th>A</th>\n",
       "      <th>B</th>\n",
       "      <th>C</th>\n",
       "      <th>D</th>\n",
       "      <th>E</th>\n",
       "    </tr>\n",
       "  </thead>\n",
       "  <tbody>\n",
       "    <tr>\n",
       "      <th>2013-01-01</th>\n",
       "      <td>NaN</td>\n",
       "      <td>NaN</td>\n",
       "      <td>NaN</td>\n",
       "      <td>NaN</td>\n",
       "      <td>NaN</td>\n",
       "    </tr>\n",
       "    <tr>\n",
       "      <th>2013-01-02</th>\n",
       "      <td>NaN</td>\n",
       "      <td>NaN</td>\n",
       "      <td>NaN</td>\n",
       "      <td>NaN</td>\n",
       "      <td>NaN</td>\n",
       "    </tr>\n",
       "    <tr>\n",
       "      <th>2013-01-03</th>\n",
       "      <td>0.479831</td>\n",
       "      <td>-1.920187</td>\n",
       "      <td>-2.936188</td>\n",
       "      <td>4.0</td>\n",
       "      <td>1.0</td>\n",
       "    </tr>\n",
       "    <tr>\n",
       "      <th>2013-01-04</th>\n",
       "      <td>-4.888471</td>\n",
       "      <td>-2.192728</td>\n",
       "      <td>-1.889456</td>\n",
       "      <td>3.0</td>\n",
       "      <td>1.0</td>\n",
       "    </tr>\n",
       "    <tr>\n",
       "      <th>2013-01-05</th>\n",
       "      <td>-5.113759</td>\n",
       "      <td>-5.140094</td>\n",
       "      <td>-4.183643</td>\n",
       "      <td>0.0</td>\n",
       "      <td>-1.0</td>\n",
       "    </tr>\n",
       "    <tr>\n",
       "      <th>2013-01-06</th>\n",
       "      <td>NaN</td>\n",
       "      <td>NaN</td>\n",
       "      <td>NaN</td>\n",
       "      <td>NaN</td>\n",
       "      <td>NaN</td>\n",
       "    </tr>\n",
       "  </tbody>\n",
       "</table>\n",
       "</div>"
      ],
      "text/plain": [
       "                   A         B         C    D    E\n",
       "2013-01-01       NaN       NaN       NaN  NaN  NaN\n",
       "2013-01-02       NaN       NaN       NaN  NaN  NaN\n",
       "2013-01-03  0.479831 -1.920187 -2.936188  4.0  1.0\n",
       "2013-01-04 -4.888471 -2.192728 -1.889456  3.0  1.0\n",
       "2013-01-05 -5.113759 -5.140094 -4.183643  0.0 -1.0\n",
       "2013-01-06       NaN       NaN       NaN  NaN  NaN"
      ]
     },
     "execution_count": 63,
     "metadata": {},
     "output_type": "execute_result"
    }
   ],
   "source": [
    "df.sub(s,axis=\"index\")"
   ]
  },
  {
   "cell_type": "markdown",
   "id": "0e6f1abb",
   "metadata": {},
   "source": [
    "User Defined Functions"
   ]
  },
  {
   "cell_type": "markdown",
   "id": "9258b25d",
   "metadata": {},
   "source": [
    ".agg() is used to perform a column wise operation in the dataframe,, where each column as pandas series is operated.. to operate in row, we can use axis=1"
   ]
  },
  {
   "cell_type": "code",
   "execution_count": 64,
   "id": "482c78a2",
   "metadata": {},
   "outputs": [
    {
     "data": {
      "text/plain": [
       "A    -0.086718\n",
       "B    -0.305665\n",
       "C    -0.932460\n",
       "D    10.000000\n",
       "E     6.000000\n",
       "dtype: float64"
      ]
     },
     "execution_count": 64,
     "metadata": {},
     "output_type": "execute_result"
    }
   ],
   "source": [
    "df.agg(lambda x: np.mean(x)*2)"
   ]
  },
  {
   "cell_type": "code",
   "execution_count": 65,
   "id": "d98121dd",
   "metadata": {},
   "outputs": [
    {
     "data": {
      "text/html": [
       "<div>\n",
       "<style scoped>\n",
       "    .dataframe tbody tr th:only-of-type {\n",
       "        vertical-align: middle;\n",
       "    }\n",
       "\n",
       "    .dataframe tbody tr th {\n",
       "        vertical-align: top;\n",
       "    }\n",
       "\n",
       "    .dataframe thead th {\n",
       "        text-align: right;\n",
       "    }\n",
       "</style>\n",
       "<table border=\"1\" class=\"dataframe\">\n",
       "  <thead>\n",
       "    <tr style=\"text-align: right;\">\n",
       "      <th></th>\n",
       "      <th>A</th>\n",
       "      <th>B</th>\n",
       "      <th>C</th>\n",
       "      <th>D</th>\n",
       "      <th>E</th>\n",
       "    </tr>\n",
       "  </thead>\n",
       "  <tbody>\n",
       "    <tr>\n",
       "      <th>2013-01-01</th>\n",
       "      <td>0.000000</td>\n",
       "      <td>0.000000</td>\n",
       "      <td>-0.767804</td>\n",
       "      <td>5.0</td>\n",
       "      <td>NaN</td>\n",
       "    </tr>\n",
       "    <tr>\n",
       "      <th>2013-01-02</th>\n",
       "      <td>0.197324</td>\n",
       "      <td>-0.615708</td>\n",
       "      <td>0.165884</td>\n",
       "      <td>5.0</td>\n",
       "      <td>1.0</td>\n",
       "    </tr>\n",
       "    <tr>\n",
       "      <th>2013-01-03</th>\n",
       "      <td>1.479831</td>\n",
       "      <td>-0.920187</td>\n",
       "      <td>-1.936188</td>\n",
       "      <td>5.0</td>\n",
       "      <td>2.0</td>\n",
       "    </tr>\n",
       "    <tr>\n",
       "      <th>2013-01-04</th>\n",
       "      <td>-2.888471</td>\n",
       "      <td>-0.192728</td>\n",
       "      <td>0.110544</td>\n",
       "      <td>5.0</td>\n",
       "      <td>3.0</td>\n",
       "    </tr>\n",
       "    <tr>\n",
       "      <th>2013-01-05</th>\n",
       "      <td>-0.113759</td>\n",
       "      <td>-0.140094</td>\n",
       "      <td>0.816357</td>\n",
       "      <td>5.0</td>\n",
       "      <td>4.0</td>\n",
       "    </tr>\n",
       "    <tr>\n",
       "      <th>2013-01-06</th>\n",
       "      <td>1.064922</td>\n",
       "      <td>0.951722</td>\n",
       "      <td>-1.186174</td>\n",
       "      <td>5.0</td>\n",
       "      <td>5.0</td>\n",
       "    </tr>\n",
       "  </tbody>\n",
       "</table>\n",
       "</div>"
      ],
      "text/plain": [
       "                   A         B         C    D    E\n",
       "2013-01-01  0.000000  0.000000 -0.767804  5.0  NaN\n",
       "2013-01-02  0.197324 -0.615708  0.165884  5.0  1.0\n",
       "2013-01-03  1.479831 -0.920187 -1.936188  5.0  2.0\n",
       "2013-01-04 -2.888471 -0.192728  0.110544  5.0  3.0\n",
       "2013-01-05 -0.113759 -0.140094  0.816357  5.0  4.0\n",
       "2013-01-06  1.064922  0.951722 -1.186174  5.0  5.0"
      ]
     },
     "execution_count": 65,
     "metadata": {},
     "output_type": "execute_result"
    }
   ],
   "source": [
    "df"
   ]
  },
  {
   "cell_type": "markdown",
   "id": "6d4260d0",
   "metadata": {},
   "source": [
    "df.transform() applies a function to each element preserving the shape of the dataframe"
   ]
  },
  {
   "cell_type": "code",
   "execution_count": 66,
   "id": "f89a2438",
   "metadata": {},
   "outputs": [
    {
     "data": {
      "text/html": [
       "<div>\n",
       "<style scoped>\n",
       "    .dataframe tbody tr th:only-of-type {\n",
       "        vertical-align: middle;\n",
       "    }\n",
       "\n",
       "    .dataframe tbody tr th {\n",
       "        vertical-align: top;\n",
       "    }\n",
       "\n",
       "    .dataframe thead th {\n",
       "        text-align: right;\n",
       "    }\n",
       "</style>\n",
       "<table border=\"1\" class=\"dataframe\">\n",
       "  <thead>\n",
       "    <tr style=\"text-align: right;\">\n",
       "      <th></th>\n",
       "      <th>A</th>\n",
       "      <th>B</th>\n",
       "      <th>C</th>\n",
       "      <th>D</th>\n",
       "      <th>E</th>\n",
       "    </tr>\n",
       "  </thead>\n",
       "  <tbody>\n",
       "    <tr>\n",
       "      <th>2013-01-01</th>\n",
       "      <td>0.000000</td>\n",
       "      <td>0.000000</td>\n",
       "      <td>-76.780406</td>\n",
       "      <td>500.0</td>\n",
       "      <td>NaN</td>\n",
       "    </tr>\n",
       "    <tr>\n",
       "      <th>2013-01-02</th>\n",
       "      <td>19.732432</td>\n",
       "      <td>-61.570786</td>\n",
       "      <td>16.588363</td>\n",
       "      <td>500.0</td>\n",
       "      <td>100.0</td>\n",
       "    </tr>\n",
       "    <tr>\n",
       "      <th>2013-01-03</th>\n",
       "      <td>147.983100</td>\n",
       "      <td>-92.018721</td>\n",
       "      <td>-193.618779</td>\n",
       "      <td>500.0</td>\n",
       "      <td>200.0</td>\n",
       "    </tr>\n",
       "    <tr>\n",
       "      <th>2013-01-04</th>\n",
       "      <td>-288.847114</td>\n",
       "      <td>-19.272814</td>\n",
       "      <td>11.054371</td>\n",
       "      <td>500.0</td>\n",
       "      <td>300.0</td>\n",
       "    </tr>\n",
       "    <tr>\n",
       "      <th>2013-01-05</th>\n",
       "      <td>-11.375948</td>\n",
       "      <td>-14.009352</td>\n",
       "      <td>81.635726</td>\n",
       "      <td>500.0</td>\n",
       "      <td>400.0</td>\n",
       "    </tr>\n",
       "    <tr>\n",
       "      <th>2013-01-06</th>\n",
       "      <td>106.492211</td>\n",
       "      <td>95.172219</td>\n",
       "      <td>-118.617395</td>\n",
       "      <td>500.0</td>\n",
       "      <td>500.0</td>\n",
       "    </tr>\n",
       "  </tbody>\n",
       "</table>\n",
       "</div>"
      ],
      "text/plain": [
       "                     A          B           C      D      E\n",
       "2013-01-01    0.000000   0.000000  -76.780406  500.0    NaN\n",
       "2013-01-02   19.732432 -61.570786   16.588363  500.0  100.0\n",
       "2013-01-03  147.983100 -92.018721 -193.618779  500.0  200.0\n",
       "2013-01-04 -288.847114 -19.272814   11.054371  500.0  300.0\n",
       "2013-01-05  -11.375948 -14.009352   81.635726  500.0  400.0\n",
       "2013-01-06  106.492211  95.172219 -118.617395  500.0  500.0"
      ]
     },
     "execution_count": 66,
     "metadata": {},
     "output_type": "execute_result"
    }
   ],
   "source": [
    "df.transform(lambda x:x*100)"
   ]
  },
  {
   "cell_type": "markdown",
   "id": "7a14e259",
   "metadata": {},
   "source": [
    "Value Counts"
   ]
  },
  {
   "cell_type": "code",
   "execution_count": 67,
   "id": "d67d7659",
   "metadata": {},
   "outputs": [
    {
     "data": {
      "text/plain": [
       "0    4\n",
       "1    1\n",
       "2    6\n",
       "3    2\n",
       "4    6\n",
       "5    0\n",
       "6    4\n",
       "7    1\n",
       "8    4\n",
       "9    5\n",
       "dtype: int32"
      ]
     },
     "execution_count": 67,
     "metadata": {},
     "output_type": "execute_result"
    }
   ],
   "source": [
    "s = pd.Series(np.random.randint(0,7,size=10))\n",
    "s"
   ]
  },
  {
   "cell_type": "code",
   "execution_count": 68,
   "id": "3ccda5d2",
   "metadata": {},
   "outputs": [
    {
     "data": {
      "text/plain": [
       "4    3\n",
       "1    2\n",
       "6    2\n",
       "2    1\n",
       "0    1\n",
       "5    1\n",
       "Name: count, dtype: int64"
      ]
     },
     "execution_count": 68,
     "metadata": {},
     "output_type": "execute_result"
    }
   ],
   "source": [
    "s.value_counts()"
   ]
  },
  {
   "cell_type": "markdown",
   "id": "c24e1317",
   "metadata": {},
   "source": [
    "String Methods"
   ]
  },
  {
   "cell_type": "code",
   "execution_count": 69,
   "id": "06a1395d",
   "metadata": {},
   "outputs": [],
   "source": [
    "s=pd.Series([\"A\",\"B\",\"C\",\"Aaba\",\"Baca\",np.nan,\"CABA\",\"dog\",\"cat\"])"
   ]
  },
  {
   "cell_type": "code",
   "execution_count": 70,
   "id": "fb6a1258",
   "metadata": {},
   "outputs": [
    {
     "data": {
      "text/plain": [
       "0       A\n",
       "1       B\n",
       "2       C\n",
       "3    Aaba\n",
       "4    Baca\n",
       "5     NaN\n",
       "6    CABA\n",
       "7     dog\n",
       "8     cat\n",
       "dtype: object"
      ]
     },
     "execution_count": 70,
     "metadata": {},
     "output_type": "execute_result"
    }
   ],
   "source": [
    "s"
   ]
  },
  {
   "cell_type": "code",
   "execution_count": 71,
   "id": "4baead4f",
   "metadata": {},
   "outputs": [
    {
     "data": {
      "text/plain": [
       "0       a\n",
       "1       b\n",
       "2       c\n",
       "3    aaba\n",
       "4    baca\n",
       "5     NaN\n",
       "6    caba\n",
       "7     dog\n",
       "8     cat\n",
       "dtype: object"
      ]
     },
     "execution_count": 71,
     "metadata": {},
     "output_type": "execute_result"
    }
   ],
   "source": [
    "s.str.lower()"
   ]
  },
  {
   "cell_type": "code",
   "execution_count": 72,
   "id": "7e95676a",
   "metadata": {},
   "outputs": [],
   "source": [
    "df = pd.DataFrame(np.random.randn(10,4))"
   ]
  },
  {
   "cell_type": "code",
   "execution_count": 73,
   "id": "e1a828d0",
   "metadata": {},
   "outputs": [
    {
     "data": {
      "text/html": [
       "<div>\n",
       "<style scoped>\n",
       "    .dataframe tbody tr th:only-of-type {\n",
       "        vertical-align: middle;\n",
       "    }\n",
       "\n",
       "    .dataframe tbody tr th {\n",
       "        vertical-align: top;\n",
       "    }\n",
       "\n",
       "    .dataframe thead th {\n",
       "        text-align: right;\n",
       "    }\n",
       "</style>\n",
       "<table border=\"1\" class=\"dataframe\">\n",
       "  <thead>\n",
       "    <tr style=\"text-align: right;\">\n",
       "      <th></th>\n",
       "      <th>0</th>\n",
       "      <th>1</th>\n",
       "      <th>2</th>\n",
       "      <th>3</th>\n",
       "    </tr>\n",
       "  </thead>\n",
       "  <tbody>\n",
       "    <tr>\n",
       "      <th>0</th>\n",
       "      <td>-0.679125</td>\n",
       "      <td>1.037345</td>\n",
       "      <td>-1.853669</td>\n",
       "      <td>0.422673</td>\n",
       "    </tr>\n",
       "    <tr>\n",
       "      <th>1</th>\n",
       "      <td>1.223857</td>\n",
       "      <td>1.546795</td>\n",
       "      <td>-0.555599</td>\n",
       "      <td>1.160211</td>\n",
       "    </tr>\n",
       "    <tr>\n",
       "      <th>2</th>\n",
       "      <td>2.298077</td>\n",
       "      <td>-0.345947</td>\n",
       "      <td>-0.059559</td>\n",
       "      <td>-1.440379</td>\n",
       "    </tr>\n",
       "    <tr>\n",
       "      <th>3</th>\n",
       "      <td>-1.897805</td>\n",
       "      <td>0.293846</td>\n",
       "      <td>0.201212</td>\n",
       "      <td>0.729540</td>\n",
       "    </tr>\n",
       "    <tr>\n",
       "      <th>4</th>\n",
       "      <td>0.500823</td>\n",
       "      <td>0.416233</td>\n",
       "      <td>0.759579</td>\n",
       "      <td>-0.124914</td>\n",
       "    </tr>\n",
       "    <tr>\n",
       "      <th>5</th>\n",
       "      <td>-1.165019</td>\n",
       "      <td>-0.130907</td>\n",
       "      <td>0.950145</td>\n",
       "      <td>-2.780455</td>\n",
       "    </tr>\n",
       "    <tr>\n",
       "      <th>6</th>\n",
       "      <td>1.351975</td>\n",
       "      <td>-0.136432</td>\n",
       "      <td>-1.380962</td>\n",
       "      <td>1.449208</td>\n",
       "    </tr>\n",
       "    <tr>\n",
       "      <th>7</th>\n",
       "      <td>1.290999</td>\n",
       "      <td>0.262006</td>\n",
       "      <td>-0.738171</td>\n",
       "      <td>1.212053</td>\n",
       "    </tr>\n",
       "    <tr>\n",
       "      <th>8</th>\n",
       "      <td>1.100445</td>\n",
       "      <td>0.503965</td>\n",
       "      <td>1.079149</td>\n",
       "      <td>0.021103</td>\n",
       "    </tr>\n",
       "    <tr>\n",
       "      <th>9</th>\n",
       "      <td>-0.465793</td>\n",
       "      <td>-1.031788</td>\n",
       "      <td>1.511771</td>\n",
       "      <td>1.409295</td>\n",
       "    </tr>\n",
       "  </tbody>\n",
       "</table>\n",
       "</div>"
      ],
      "text/plain": [
       "          0         1         2         3\n",
       "0 -0.679125  1.037345 -1.853669  0.422673\n",
       "1  1.223857  1.546795 -0.555599  1.160211\n",
       "2  2.298077 -0.345947 -0.059559 -1.440379\n",
       "3 -1.897805  0.293846  0.201212  0.729540\n",
       "4  0.500823  0.416233  0.759579 -0.124914\n",
       "5 -1.165019 -0.130907  0.950145 -2.780455\n",
       "6  1.351975 -0.136432 -1.380962  1.449208\n",
       "7  1.290999  0.262006 -0.738171  1.212053\n",
       "8  1.100445  0.503965  1.079149  0.021103\n",
       "9 -0.465793 -1.031788  1.511771  1.409295"
      ]
     },
     "execution_count": 73,
     "metadata": {},
     "output_type": "execute_result"
    }
   ],
   "source": [
    "df"
   ]
  },
  {
   "cell_type": "markdown",
   "id": "93fb9c0d",
   "metadata": {},
   "source": [
    "Breaking into Pieces"
   ]
  },
  {
   "cell_type": "code",
   "execution_count": 74,
   "id": "7f27c987",
   "metadata": {},
   "outputs": [],
   "source": [
    "pieces = [df[:3],df[3:7],df[7:]]"
   ]
  },
  {
   "cell_type": "code",
   "execution_count": 75,
   "id": "81acbd48",
   "metadata": {},
   "outputs": [
    {
     "data": {
      "text/plain": [
       "[          0         1         2         3\n",
       " 0 -0.679125  1.037345 -1.853669  0.422673\n",
       " 1  1.223857  1.546795 -0.555599  1.160211\n",
       " 2  2.298077 -0.345947 -0.059559 -1.440379,\n",
       "           0         1         2         3\n",
       " 3 -1.897805  0.293846  0.201212  0.729540\n",
       " 4  0.500823  0.416233  0.759579 -0.124914\n",
       " 5 -1.165019 -0.130907  0.950145 -2.780455\n",
       " 6  1.351975 -0.136432 -1.380962  1.449208,\n",
       "           0         1         2         3\n",
       " 7  1.290999  0.262006 -0.738171  1.212053\n",
       " 8  1.100445  0.503965  1.079149  0.021103\n",
       " 9 -0.465793 -1.031788  1.511771  1.409295]"
      ]
     },
     "execution_count": 75,
     "metadata": {},
     "output_type": "execute_result"
    }
   ],
   "source": [
    "pieces"
   ]
  },
  {
   "cell_type": "code",
   "execution_count": 76,
   "id": "f4c28801",
   "metadata": {},
   "outputs": [
    {
     "data": {
      "text/html": [
       "<div>\n",
       "<style scoped>\n",
       "    .dataframe tbody tr th:only-of-type {\n",
       "        vertical-align: middle;\n",
       "    }\n",
       "\n",
       "    .dataframe tbody tr th {\n",
       "        vertical-align: top;\n",
       "    }\n",
       "\n",
       "    .dataframe thead th {\n",
       "        text-align: right;\n",
       "    }\n",
       "</style>\n",
       "<table border=\"1\" class=\"dataframe\">\n",
       "  <thead>\n",
       "    <tr style=\"text-align: right;\">\n",
       "      <th></th>\n",
       "      <th>0</th>\n",
       "      <th>1</th>\n",
       "      <th>2</th>\n",
       "      <th>3</th>\n",
       "    </tr>\n",
       "  </thead>\n",
       "  <tbody>\n",
       "    <tr>\n",
       "      <th>0</th>\n",
       "      <td>-0.679125</td>\n",
       "      <td>1.037345</td>\n",
       "      <td>-1.853669</td>\n",
       "      <td>0.422673</td>\n",
       "    </tr>\n",
       "    <tr>\n",
       "      <th>1</th>\n",
       "      <td>1.223857</td>\n",
       "      <td>1.546795</td>\n",
       "      <td>-0.555599</td>\n",
       "      <td>1.160211</td>\n",
       "    </tr>\n",
       "    <tr>\n",
       "      <th>2</th>\n",
       "      <td>2.298077</td>\n",
       "      <td>-0.345947</td>\n",
       "      <td>-0.059559</td>\n",
       "      <td>-1.440379</td>\n",
       "    </tr>\n",
       "    <tr>\n",
       "      <th>3</th>\n",
       "      <td>-1.897805</td>\n",
       "      <td>0.293846</td>\n",
       "      <td>0.201212</td>\n",
       "      <td>0.729540</td>\n",
       "    </tr>\n",
       "    <tr>\n",
       "      <th>4</th>\n",
       "      <td>0.500823</td>\n",
       "      <td>0.416233</td>\n",
       "      <td>0.759579</td>\n",
       "      <td>-0.124914</td>\n",
       "    </tr>\n",
       "    <tr>\n",
       "      <th>5</th>\n",
       "      <td>-1.165019</td>\n",
       "      <td>-0.130907</td>\n",
       "      <td>0.950145</td>\n",
       "      <td>-2.780455</td>\n",
       "    </tr>\n",
       "    <tr>\n",
       "      <th>6</th>\n",
       "      <td>1.351975</td>\n",
       "      <td>-0.136432</td>\n",
       "      <td>-1.380962</td>\n",
       "      <td>1.449208</td>\n",
       "    </tr>\n",
       "    <tr>\n",
       "      <th>7</th>\n",
       "      <td>1.290999</td>\n",
       "      <td>0.262006</td>\n",
       "      <td>-0.738171</td>\n",
       "      <td>1.212053</td>\n",
       "    </tr>\n",
       "    <tr>\n",
       "      <th>8</th>\n",
       "      <td>1.100445</td>\n",
       "      <td>0.503965</td>\n",
       "      <td>1.079149</td>\n",
       "      <td>0.021103</td>\n",
       "    </tr>\n",
       "    <tr>\n",
       "      <th>9</th>\n",
       "      <td>-0.465793</td>\n",
       "      <td>-1.031788</td>\n",
       "      <td>1.511771</td>\n",
       "      <td>1.409295</td>\n",
       "    </tr>\n",
       "  </tbody>\n",
       "</table>\n",
       "</div>"
      ],
      "text/plain": [
       "          0         1         2         3\n",
       "0 -0.679125  1.037345 -1.853669  0.422673\n",
       "1  1.223857  1.546795 -0.555599  1.160211\n",
       "2  2.298077 -0.345947 -0.059559 -1.440379\n",
       "3 -1.897805  0.293846  0.201212  0.729540\n",
       "4  0.500823  0.416233  0.759579 -0.124914\n",
       "5 -1.165019 -0.130907  0.950145 -2.780455\n",
       "6  1.351975 -0.136432 -1.380962  1.449208\n",
       "7  1.290999  0.262006 -0.738171  1.212053\n",
       "8  1.100445  0.503965  1.079149  0.021103\n",
       "9 -0.465793 -1.031788  1.511771  1.409295"
      ]
     },
     "execution_count": 76,
     "metadata": {},
     "output_type": "execute_result"
    }
   ],
   "source": [
    "pd.concat(pieces)"
   ]
  },
  {
   "cell_type": "markdown",
   "id": "4ba8ea11",
   "metadata": {},
   "source": [
    "https://pandas.pydata.org/pandas-docs/stable/user_guide/10min.html#:~:text=records%20to%20it.-,Join,-%23"
   ]
  },
  {
   "cell_type": "markdown",
   "id": "722bde6b",
   "metadata": {},
   "source": [
    "Join"
   ]
  },
  {
   "cell_type": "code",
   "execution_count": 77,
   "id": "ea947d80",
   "metadata": {},
   "outputs": [
    {
     "data": {
      "text/html": [
       "<div>\n",
       "<style scoped>\n",
       "    .dataframe tbody tr th:only-of-type {\n",
       "        vertical-align: middle;\n",
       "    }\n",
       "\n",
       "    .dataframe tbody tr th {\n",
       "        vertical-align: top;\n",
       "    }\n",
       "\n",
       "    .dataframe thead th {\n",
       "        text-align: right;\n",
       "    }\n",
       "</style>\n",
       "<table border=\"1\" class=\"dataframe\">\n",
       "  <thead>\n",
       "    <tr style=\"text-align: right;\">\n",
       "      <th></th>\n",
       "      <th>key</th>\n",
       "      <th>Ival</th>\n",
       "    </tr>\n",
       "  </thead>\n",
       "  <tbody>\n",
       "    <tr>\n",
       "      <th>0</th>\n",
       "      <td>foo</td>\n",
       "      <td>1</td>\n",
       "    </tr>\n",
       "    <tr>\n",
       "      <th>1</th>\n",
       "      <td>foo</td>\n",
       "      <td>2</td>\n",
       "    </tr>\n",
       "  </tbody>\n",
       "</table>\n",
       "</div>"
      ],
      "text/plain": [
       "   key  Ival\n",
       "0  foo     1\n",
       "1  foo     2"
      ]
     },
     "execution_count": 77,
     "metadata": {},
     "output_type": "execute_result"
    }
   ],
   "source": [
    "left = pd.DataFrame({\"key\":[\"foo\",\"foo\"],\"Ival\":[1,2]})\n",
    "left"
   ]
  },
  {
   "cell_type": "code",
   "execution_count": 78,
   "id": "9dd3c898",
   "metadata": {},
   "outputs": [
    {
     "data": {
      "text/html": [
       "<div>\n",
       "<style scoped>\n",
       "    .dataframe tbody tr th:only-of-type {\n",
       "        vertical-align: middle;\n",
       "    }\n",
       "\n",
       "    .dataframe tbody tr th {\n",
       "        vertical-align: top;\n",
       "    }\n",
       "\n",
       "    .dataframe thead th {\n",
       "        text-align: right;\n",
       "    }\n",
       "</style>\n",
       "<table border=\"1\" class=\"dataframe\">\n",
       "  <thead>\n",
       "    <tr style=\"text-align: right;\">\n",
       "      <th></th>\n",
       "      <th>key</th>\n",
       "      <th>rval</th>\n",
       "    </tr>\n",
       "  </thead>\n",
       "  <tbody>\n",
       "    <tr>\n",
       "      <th>0</th>\n",
       "      <td>foo</td>\n",
       "      <td>4</td>\n",
       "    </tr>\n",
       "    <tr>\n",
       "      <th>1</th>\n",
       "      <td>foo</td>\n",
       "      <td>5</td>\n",
       "    </tr>\n",
       "  </tbody>\n",
       "</table>\n",
       "</div>"
      ],
      "text/plain": [
       "   key  rval\n",
       "0  foo     4\n",
       "1  foo     5"
      ]
     },
     "execution_count": 78,
     "metadata": {},
     "output_type": "execute_result"
    }
   ],
   "source": [
    "right = pd.DataFrame({\"key\":[\"foo\",\"foo\"],\"rval\":[4,5]})\n",
    "right"
   ]
  },
  {
   "cell_type": "code",
   "execution_count": 79,
   "id": "fe9c8040",
   "metadata": {},
   "outputs": [
    {
     "data": {
      "text/html": [
       "<div>\n",
       "<style scoped>\n",
       "    .dataframe tbody tr th:only-of-type {\n",
       "        vertical-align: middle;\n",
       "    }\n",
       "\n",
       "    .dataframe tbody tr th {\n",
       "        vertical-align: top;\n",
       "    }\n",
       "\n",
       "    .dataframe thead th {\n",
       "        text-align: right;\n",
       "    }\n",
       "</style>\n",
       "<table border=\"1\" class=\"dataframe\">\n",
       "  <thead>\n",
       "    <tr style=\"text-align: right;\">\n",
       "      <th></th>\n",
       "      <th>key</th>\n",
       "      <th>Ival</th>\n",
       "      <th>rval</th>\n",
       "    </tr>\n",
       "  </thead>\n",
       "  <tbody>\n",
       "    <tr>\n",
       "      <th>0</th>\n",
       "      <td>foo</td>\n",
       "      <td>1</td>\n",
       "      <td>4</td>\n",
       "    </tr>\n",
       "    <tr>\n",
       "      <th>1</th>\n",
       "      <td>foo</td>\n",
       "      <td>1</td>\n",
       "      <td>5</td>\n",
       "    </tr>\n",
       "    <tr>\n",
       "      <th>2</th>\n",
       "      <td>foo</td>\n",
       "      <td>2</td>\n",
       "      <td>4</td>\n",
       "    </tr>\n",
       "    <tr>\n",
       "      <th>3</th>\n",
       "      <td>foo</td>\n",
       "      <td>2</td>\n",
       "      <td>5</td>\n",
       "    </tr>\n",
       "  </tbody>\n",
       "</table>\n",
       "</div>"
      ],
      "text/plain": [
       "   key  Ival  rval\n",
       "0  foo     1     4\n",
       "1  foo     1     5\n",
       "2  foo     2     4\n",
       "3  foo     2     5"
      ]
     },
     "execution_count": 79,
     "metadata": {},
     "output_type": "execute_result"
    }
   ],
   "source": [
    "pd.merge(left,right,on=\"key\")"
   ]
  },
  {
   "cell_type": "code",
   "execution_count": 80,
   "id": "9084a7c4",
   "metadata": {},
   "outputs": [
    {
     "data": {
      "text/html": [
       "<div>\n",
       "<style scoped>\n",
       "    .dataframe tbody tr th:only-of-type {\n",
       "        vertical-align: middle;\n",
       "    }\n",
       "\n",
       "    .dataframe tbody tr th {\n",
       "        vertical-align: top;\n",
       "    }\n",
       "\n",
       "    .dataframe thead th {\n",
       "        text-align: right;\n",
       "    }\n",
       "</style>\n",
       "<table border=\"1\" class=\"dataframe\">\n",
       "  <thead>\n",
       "    <tr style=\"text-align: right;\">\n",
       "      <th></th>\n",
       "      <th>key</th>\n",
       "      <th>Ival</th>\n",
       "      <th>Jval</th>\n",
       "    </tr>\n",
       "  </thead>\n",
       "  <tbody>\n",
       "    <tr>\n",
       "      <th>0</th>\n",
       "      <td>foo</td>\n",
       "      <td>1</td>\n",
       "      <td>4</td>\n",
       "    </tr>\n",
       "    <tr>\n",
       "      <th>1</th>\n",
       "      <td>zoo</td>\n",
       "      <td>2</td>\n",
       "      <td>5</td>\n",
       "    </tr>\n",
       "  </tbody>\n",
       "</table>\n",
       "</div>"
      ],
      "text/plain": [
       "   key  Ival  Jval\n",
       "0  foo     1     4\n",
       "1  zoo     2     5"
      ]
     },
     "execution_count": 80,
     "metadata": {},
     "output_type": "execute_result"
    }
   ],
   "source": [
    "left = pd.DataFrame({\"key\":[\"foo\",\"zoo\"],\"Ival\":[1,2]})\n",
    "right = pd.DataFrame({\"key\":[\"foo\",\"zoo\"],\"Jval\":[4,5]})\n",
    "pd.merge(left,right,on=\"key\")"
   ]
  },
  {
   "cell_type": "markdown",
   "id": "b6fc3fe3",
   "metadata": {},
   "source": [
    "Grouping"
   ]
  },
  {
   "cell_type": "code",
   "execution_count": 81,
   "id": "e0c889f8",
   "metadata": {},
   "outputs": [],
   "source": [
    "df = pd.DataFrame(\n",
    "    {\n",
    "        \"A\":[\"foo\",\"bar\",\"foo\",\"bar\",\"foo\",\"bar\",\"foo\",\"bar\"],\n",
    "        \"B\":[\"one\",\"one\",\"two\",\"three\",\"two\",\"two\",\"one\",\"one\"],\n",
    "        \"C\":np.random.randn(8),\n",
    "        \"D\":np.random.randn(8)\n",
    "    }\n",
    ")"
   ]
  },
  {
   "cell_type": "code",
   "execution_count": 82,
   "id": "b1725928",
   "metadata": {},
   "outputs": [
    {
     "data": {
      "text/html": [
       "<div>\n",
       "<style scoped>\n",
       "    .dataframe tbody tr th:only-of-type {\n",
       "        vertical-align: middle;\n",
       "    }\n",
       "\n",
       "    .dataframe tbody tr th {\n",
       "        vertical-align: top;\n",
       "    }\n",
       "\n",
       "    .dataframe thead th {\n",
       "        text-align: right;\n",
       "    }\n",
       "</style>\n",
       "<table border=\"1\" class=\"dataframe\">\n",
       "  <thead>\n",
       "    <tr style=\"text-align: right;\">\n",
       "      <th></th>\n",
       "      <th>A</th>\n",
       "      <th>B</th>\n",
       "      <th>C</th>\n",
       "      <th>D</th>\n",
       "    </tr>\n",
       "  </thead>\n",
       "  <tbody>\n",
       "    <tr>\n",
       "      <th>0</th>\n",
       "      <td>foo</td>\n",
       "      <td>one</td>\n",
       "      <td>0.621178</td>\n",
       "      <td>-0.816785</td>\n",
       "    </tr>\n",
       "    <tr>\n",
       "      <th>1</th>\n",
       "      <td>bar</td>\n",
       "      <td>one</td>\n",
       "      <td>0.611387</td>\n",
       "      <td>0.965083</td>\n",
       "    </tr>\n",
       "    <tr>\n",
       "      <th>2</th>\n",
       "      <td>foo</td>\n",
       "      <td>two</td>\n",
       "      <td>1.476068</td>\n",
       "      <td>1.058686</td>\n",
       "    </tr>\n",
       "    <tr>\n",
       "      <th>3</th>\n",
       "      <td>bar</td>\n",
       "      <td>three</td>\n",
       "      <td>-1.731414</td>\n",
       "      <td>-2.328804</td>\n",
       "    </tr>\n",
       "    <tr>\n",
       "      <th>4</th>\n",
       "      <td>foo</td>\n",
       "      <td>two</td>\n",
       "      <td>1.408124</td>\n",
       "      <td>-0.008929</td>\n",
       "    </tr>\n",
       "    <tr>\n",
       "      <th>5</th>\n",
       "      <td>bar</td>\n",
       "      <td>two</td>\n",
       "      <td>0.868436</td>\n",
       "      <td>2.026670</td>\n",
       "    </tr>\n",
       "    <tr>\n",
       "      <th>6</th>\n",
       "      <td>foo</td>\n",
       "      <td>one</td>\n",
       "      <td>-0.953274</td>\n",
       "      <td>-0.788969</td>\n",
       "    </tr>\n",
       "    <tr>\n",
       "      <th>7</th>\n",
       "      <td>bar</td>\n",
       "      <td>one</td>\n",
       "      <td>-1.651454</td>\n",
       "      <td>0.577641</td>\n",
       "    </tr>\n",
       "  </tbody>\n",
       "</table>\n",
       "</div>"
      ],
      "text/plain": [
       "     A      B         C         D\n",
       "0  foo    one  0.621178 -0.816785\n",
       "1  bar    one  0.611387  0.965083\n",
       "2  foo    two  1.476068  1.058686\n",
       "3  bar  three -1.731414 -2.328804\n",
       "4  foo    two  1.408124 -0.008929\n",
       "5  bar    two  0.868436  2.026670\n",
       "6  foo    one -0.953274 -0.788969\n",
       "7  bar    one -1.651454  0.577641"
      ]
     },
     "execution_count": 82,
     "metadata": {},
     "output_type": "execute_result"
    }
   ],
   "source": [
    "df"
   ]
  },
  {
   "cell_type": "markdown",
   "id": "af54b8f8",
   "metadata": {},
   "source": [
    "[2082/05/07 09:55 PM](https://pandas.pydata.org/pandas-docs/stable/user_guide/10min.html#:~:text=a%20column%20label%2C%20selecting)"
   ]
  },
  {
   "cell_type": "code",
   "execution_count": 83,
   "id": "bc92b0f7",
   "metadata": {},
   "outputs": [
    {
     "data": {
      "text/html": [
       "<div>\n",
       "<style scoped>\n",
       "    .dataframe tbody tr th:only-of-type {\n",
       "        vertical-align: middle;\n",
       "    }\n",
       "\n",
       "    .dataframe tbody tr th {\n",
       "        vertical-align: top;\n",
       "    }\n",
       "\n",
       "    .dataframe thead th {\n",
       "        text-align: right;\n",
       "    }\n",
       "</style>\n",
       "<table border=\"1\" class=\"dataframe\">\n",
       "  <thead>\n",
       "    <tr style=\"text-align: right;\">\n",
       "      <th></th>\n",
       "      <th>C</th>\n",
       "      <th>D</th>\n",
       "    </tr>\n",
       "    <tr>\n",
       "      <th>A</th>\n",
       "      <th></th>\n",
       "      <th></th>\n",
       "    </tr>\n",
       "  </thead>\n",
       "  <tbody>\n",
       "    <tr>\n",
       "      <th>bar</th>\n",
       "      <td>-1.903045</td>\n",
       "      <td>1.240590</td>\n",
       "    </tr>\n",
       "    <tr>\n",
       "      <th>foo</th>\n",
       "      <td>2.552096</td>\n",
       "      <td>-0.555997</td>\n",
       "    </tr>\n",
       "  </tbody>\n",
       "</table>\n",
       "</div>"
      ],
      "text/plain": [
       "            C         D\n",
       "A                      \n",
       "bar -1.903045  1.240590\n",
       "foo  2.552096 -0.555997"
      ]
     },
     "execution_count": 83,
     "metadata": {},
     "output_type": "execute_result"
    }
   ],
   "source": [
    "df.groupby(\"A\")[[\"C\",\"D\"]].sum()"
   ]
  },
  {
   "cell_type": "markdown",
   "id": "cbb4c7c6",
   "metadata": {},
   "source": [
    "2081/05/08    08:09 PM ...... August 24, 2025"
   ]
  },
  {
   "cell_type": "code",
   "execution_count": null,
   "id": "96035765",
   "metadata": {},
   "outputs": [
    {
     "data": {
      "text/plain": [
       "<pandas.core.groupby.generic.DataFrameGroupBy object at 0x00000148EF2E3050>"
      ]
     },
     "execution_count": 90,
     "metadata": {},
     "output_type": "execute_result"
    }
   ],
   "source": [
    "df.groupby(\"A\")[[\"C\"]].sum()"
   ]
  },
  {
   "cell_type": "code",
   "execution_count": null,
   "id": "69fe142a",
   "metadata": {},
   "outputs": [],
   "source": []
  }
 ],
 "metadata": {
  "kernelspec": {
   "display_name": "base",
   "language": "python",
   "name": "python3"
  },
  "language_info": {
   "codemirror_mode": {
    "name": "ipython",
    "version": 3
   },
   "file_extension": ".py",
   "mimetype": "text/x-python",
   "name": "python",
   "nbconvert_exporter": "python",
   "pygments_lexer": "ipython3",
   "version": "3.13.5"
  }
 },
 "nbformat": 4,
 "nbformat_minor": 5
}
